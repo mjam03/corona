{
 "cells": [
  {
   "cell_type": "markdown",
   "id": "according-letters",
   "metadata": {},
   "source": [
    "# Using Python to Debunk COVID Myths: ‘Death Statistic Inflation’"
   ]
  },
  {
   "cell_type": "markdown",
   "id": "considered-lover",
   "metadata": {},
   "source": [
    "What is required from Python:\n",
    " - Download most recent death and population data from eurostat\n",
    " - Format data and only select where NUTS3 includes UK\n",
    " - Interpolate weekly population numbers\n",
    " - Age standardise\n",
    " - "
   ]
  },
  {
   "cell_type": "code",
   "execution_count": 38,
   "id": "moved-domain",
   "metadata": {},
   "outputs": [],
   "source": [
    "import datetime as dt\n",
    "import gzip\n",
    "import io\n",
    "import numpy as np\n",
    "import pandas as pd\n",
    "import requests\n",
    "import sys\n",
    "import warnings\n",
    "\n",
    "%config Completer.use_jedi = False\n",
    "warnings.filterwarnings('ignore')\n",
    "pd.set_option('display.max_rows', 500)\n",
    "pd.set_option('display.max_columns', 500)"
   ]
  },
  {
   "cell_type": "markdown",
   "id": "domestic-spotlight",
   "metadata": {},
   "source": [
    "## 1. Population Data"
   ]
  },
  {
   "cell_type": "markdown",
   "id": "focused-transsexual",
   "metadata": {},
   "source": [
    "### 1a. Import, Clean and Munge Raw Data"
   ]
  },
  {
   "cell_type": "code",
   "execution_count": 39,
   "id": "derived-matrix",
   "metadata": {},
   "outputs": [],
   "source": [
    "r = requests.get('https://ec.europa.eu/eurostat/estat-navtree-portlet-prod/BulkDownloadListing?file=data/demo_r_pjangrp3.tsv.gz')\n",
    "mlz = gzip.open(io.BytesIO(r.content))\n",
    "\n",
    "df_pop = pd.read_csv(mlz, sep='\\t')"
   ]
  },
  {
   "cell_type": "code",
   "execution_count": 41,
   "id": "assured-taxation",
   "metadata": {},
   "outputs": [],
   "source": [
    "# rename and fix id data column\n",
    "df_pop = df_pop.rename(columns={\"sex,unit,age,geo\\\\time\": \"Headings\"})\n",
    "# parse to 4 cols\n",
    "df_pop[\"Headings\"] = df_pop[\"Headings\"].apply(lambda x: x.split(','))\n",
    "df_pop[['Sex', 'Unit', 'Age', 'Code']] = pd.DataFrame(df_pop.Headings.tolist(), index= df_pop.index)\n",
    "df_pop = df_pop.drop(columns=['Headings', 'Unit'])"
   ]
  },
  {
   "cell_type": "code",
   "execution_count": 42,
   "id": "elegant-cutting",
   "metadata": {},
   "outputs": [],
   "source": [
    "df_pop = df_pop[(df_pop.Sex == 'T') & (~df_pop.Age.isin(['TOTAL', 'UNK']))]\n",
    "df_pop = df_pop.drop(columns=['Sex'])"
   ]
  },
  {
   "cell_type": "code",
   "execution_count": 43,
   "id": "smart-crack",
   "metadata": {},
   "outputs": [],
   "source": [
    "df_pop = pd.melt(df_pop, id_vars=['Age', 'Code'], var_name=['Year'], value_vars=['2014 ', '2015 ', '2016 ', '2017 ', '2018 ', '2019 '], value_name='Pop')"
   ]
  },
  {
   "cell_type": "code",
   "execution_count": 44,
   "id": "personal-differential",
   "metadata": {},
   "outputs": [
    {
     "name": "stdout",
     "output_type": "stream",
     "text": [
      "We have 239,352 observations for annual data by NUTS3 and age group breakdown\n"
     ]
    },
    {
     "data": {
      "text/html": [
       "<div>\n",
       "<style scoped>\n",
       "    .dataframe tbody tr th:only-of-type {\n",
       "        vertical-align: middle;\n",
       "    }\n",
       "\n",
       "    .dataframe tbody tr th {\n",
       "        vertical-align: top;\n",
       "    }\n",
       "\n",
       "    .dataframe thead th {\n",
       "        text-align: right;\n",
       "    }\n",
       "</style>\n",
       "<table border=\"1\" class=\"dataframe\">\n",
       "  <thead>\n",
       "    <tr style=\"text-align: right;\">\n",
       "      <th></th>\n",
       "      <th>Age</th>\n",
       "      <th>Code</th>\n",
       "      <th>Year</th>\n",
       "      <th>Pop</th>\n",
       "    </tr>\n",
       "  </thead>\n",
       "  <tbody>\n",
       "    <tr>\n",
       "      <th>0</th>\n",
       "      <td>Y10-14</td>\n",
       "      <td>AL</td>\n",
       "      <td>2014</td>\n",
       "      <td>215892.0</td>\n",
       "    </tr>\n",
       "    <tr>\n",
       "      <th>1</th>\n",
       "      <td>Y10-14</td>\n",
       "      <td>AL0</td>\n",
       "      <td>2014</td>\n",
       "      <td>215892.0</td>\n",
       "    </tr>\n",
       "    <tr>\n",
       "      <th>2</th>\n",
       "      <td>Y10-14</td>\n",
       "      <td>AL01</td>\n",
       "      <td>2014</td>\n",
       "      <td>64493.0</td>\n",
       "    </tr>\n",
       "    <tr>\n",
       "      <th>3</th>\n",
       "      <td>Y10-14</td>\n",
       "      <td>AL011</td>\n",
       "      <td>2014</td>\n",
       "      <td>10707.0</td>\n",
       "    </tr>\n",
       "    <tr>\n",
       "      <th>4</th>\n",
       "      <td>Y10-14</td>\n",
       "      <td>AL012</td>\n",
       "      <td>2014</td>\n",
       "      <td>20163.0</td>\n",
       "    </tr>\n",
       "  </tbody>\n",
       "</table>\n",
       "</div>"
      ],
      "text/plain": [
       "      Age   Code  Year       Pop\n",
       "0  Y10-14     AL  2014  215892.0\n",
       "1  Y10-14    AL0  2014  215892.0\n",
       "2  Y10-14   AL01  2014   64493.0\n",
       "3  Y10-14  AL011  2014   10707.0\n",
       "4  Y10-14  AL012  2014   20163.0"
      ]
     },
     "execution_count": 44,
     "metadata": {},
     "output_type": "execute_result"
    }
   ],
   "source": [
    "# remove iregs from number col (e.g. p means provisional)\n",
    "num_iregs = [\":\", \"b\", \"p\", \"e\", \" \"]\n",
    "for ireg in num_iregs:\n",
    "    df_pop.Pop = df_pop.Pop.str.replace(ireg, \"\")\n",
    "\n",
    "# cast to numeric\n",
    "num_cols = ['Pop', 'Year']\n",
    "for col in num_cols:\n",
    "    df_pop[col] = pd.to_numeric(df_pop[col])\n",
    "\n",
    "print('We have {:,.0f} observations for annual data by NUTS3 and age group breakdown'.format(len(df_pop)))\n",
    "df_pop.head()"
   ]
  },
  {
   "cell_type": "code",
   "execution_count": 45,
   "id": "floating-agreement",
   "metadata": {},
   "outputs": [],
   "source": [
    "# give country code to help with chunking\n",
    "df_pop['Country_Code'] = df_pop.Code.str[:2]"
   ]
  },
  {
   "cell_type": "code",
   "execution_count": 47,
   "id": "friendly-mailman",
   "metadata": {},
   "outputs": [],
   "source": [
    "df_pop = pd.merge(left=df_pop, right=df_nuts, on='Code', how='left')"
   ]
  },
  {
   "cell_type": "code",
   "execution_count": 48,
   "id": "productive-proof",
   "metadata": {},
   "outputs": [],
   "source": [
    "df_pop = df_pop[df_pop.Country == 'United Kingdom']"
   ]
  },
  {
   "cell_type": "markdown",
   "id": "radical-flower",
   "metadata": {},
   "source": [
    "### 1b. Create Liner Interp for 2020 and 2021"
   ]
  },
  {
   "cell_type": "code",
   "execution_count": 8,
   "id": "advised-appraisal",
   "metadata": {},
   "outputs": [],
   "source": [
    "# add 2020, 2021 data with NAN for pop to be linearly interpolated forward\n",
    "df_pop_new = df_pop[['Age', 'Code', 'Country_Code']].drop_duplicates()\n",
    "df_pop_new['Pop'] = np.nan\n",
    "\n",
    "df_pop_new['Year'] = 2020\n",
    "df_pop = pd.concat([df_pop, df_pop_new])\n",
    "\n",
    "df_pop_new['Year'] = 2021\n",
    "df_pop = pd.concat([df_pop, df_pop_new])"
   ]
  },
  {
   "cell_type": "code",
   "execution_count": 9,
   "id": "concerned-listing",
   "metadata": {},
   "outputs": [
    {
     "data": {
      "text/html": [
       "<div>\n",
       "<style scoped>\n",
       "    .dataframe tbody tr th:only-of-type {\n",
       "        vertical-align: middle;\n",
       "    }\n",
       "\n",
       "    .dataframe tbody tr th {\n",
       "        vertical-align: top;\n",
       "    }\n",
       "\n",
       "    .dataframe thead th {\n",
       "        text-align: right;\n",
       "    }\n",
       "</style>\n",
       "<table border=\"1\" class=\"dataframe\">\n",
       "  <thead>\n",
       "    <tr style=\"text-align: right;\">\n",
       "      <th></th>\n",
       "      <th>Code</th>\n",
       "    </tr>\n",
       "    <tr>\n",
       "      <th>Year</th>\n",
       "      <th></th>\n",
       "    </tr>\n",
       "  </thead>\n",
       "  <tbody>\n",
       "    <tr>\n",
       "      <th>2014</th>\n",
       "      <td>39892</td>\n",
       "    </tr>\n",
       "    <tr>\n",
       "      <th>2015</th>\n",
       "      <td>39892</td>\n",
       "    </tr>\n",
       "    <tr>\n",
       "      <th>2016</th>\n",
       "      <td>39892</td>\n",
       "    </tr>\n",
       "    <tr>\n",
       "      <th>2017</th>\n",
       "      <td>39892</td>\n",
       "    </tr>\n",
       "    <tr>\n",
       "      <th>2018</th>\n",
       "      <td>39892</td>\n",
       "    </tr>\n",
       "    <tr>\n",
       "      <th>2019</th>\n",
       "      <td>39892</td>\n",
       "    </tr>\n",
       "    <tr>\n",
       "      <th>2020</th>\n",
       "      <td>39892</td>\n",
       "    </tr>\n",
       "    <tr>\n",
       "      <th>2021</th>\n",
       "      <td>39892</td>\n",
       "    </tr>\n",
       "  </tbody>\n",
       "</table>\n",
       "</div>"
      ],
      "text/plain": [
       "       Code\n",
       "Year       \n",
       "2014  39892\n",
       "2015  39892\n",
       "2016  39892\n",
       "2017  39892\n",
       "2018  39892\n",
       "2019  39892\n",
       "2020  39892\n",
       "2021  39892"
      ]
     },
     "execution_count": 9,
     "metadata": {},
     "output_type": "execute_result"
    }
   ],
   "source": [
    "# just to prove we have a complete data set\n",
    "df_pop[['Year', 'Code']].groupby('Year').count()"
   ]
  },
  {
   "cell_type": "code",
   "execution_count": 10,
   "id": "civilian-spencer",
   "metadata": {},
   "outputs": [],
   "source": [
    "# linear interp 2019 population by group for 2020 and 2021\n",
    "df_pop = df_pop.sort_values(['Code', 'Age', 'Year'])\n",
    "df_pop = df_pop.reset_index(drop=True)\n",
    "df_pop['Pop'] = df_pop['Pop'].ffill()"
   ]
  },
  {
   "cell_type": "code",
   "execution_count": null,
   "id": "limited-rebel",
   "metadata": {},
   "outputs": [],
   "source": []
  },
  {
   "cell_type": "code",
   "execution_count": null,
   "id": "remarkable-union",
   "metadata": {},
   "outputs": [],
   "source": []
  }
 ],
 "metadata": {
  "kernelspec": {
   "display_name": "Python 3",
   "language": "python",
   "name": "python3"
  },
  "language_info": {
   "codemirror_mode": {
    "name": "ipython",
    "version": 3
   },
   "file_extension": ".py",
   "mimetype": "text/x-python",
   "name": "python",
   "nbconvert_exporter": "python",
   "pygments_lexer": "ipython3",
   "version": "3.8.2"
  }
 },
 "nbformat": 4,
 "nbformat_minor": 5
}
