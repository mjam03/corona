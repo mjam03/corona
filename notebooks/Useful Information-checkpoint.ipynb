{
 "cells": [
  {
   "cell_type": "markdown",
   "metadata": {},
   "source": [
    "# Indexing All Useful Articles"
   ]
  },
  {
   "cell_type": "markdown",
   "metadata": {},
   "source": [
    "Notebook with organised links to move out of tab hell"
   ]
  },
  {
   "cell_type": "code",
   "execution_count": null,
   "metadata": {},
   "outputs": [],
   "source": []
  },
  {
   "cell_type": "code",
   "execution_count": null,
   "metadata": {},
   "outputs": [],
   "source": []
  },
  {
   "cell_type": "markdown",
   "metadata": {},
   "source": [
    "## Flu"
   ]
  },
  {
   "cell_type": "markdown",
   "metadata": {},
   "source": [
    "Data / articles on common flu for use as a comparison to coronavirus"
   ]
  },
  {
   "cell_type": "markdown",
   "metadata": {},
   "source": [
    "[PHE annual article detailing the 19/20 flu season](https://assets.publishing.service.gov.uk/government/uploads/system/uploads/attachment_data/file/895233/Surveillance_Influenza_and_other_respiratory_viruses_in_the_UK_2019_to_2020_FINAL.pdf)\n",
    "\n"
   ]
  },
  {
   "cell_type": "code",
   "execution_count": null,
   "metadata": {},
   "outputs": [],
   "source": []
  },
  {
   "cell_type": "markdown",
   "metadata": {},
   "source": [
    "## Excess Mortality"
   ]
  },
  {
   "cell_type": "markdown",
   "metadata": {},
   "source": [
    "[PHE Jan 2021 report with charts of excess mortality](https://fingertips.phe.org.uk/static-reports/mortality-surveillance/excess-mortality-in-england-latest.html)\n",
    "\n",
    "[BBC article giving 80,000 excess deaths UK with data sources](https://www.bbc.com/news/health-55411323)\n",
    "\n",
    "[King's Fund increibly useful article](https://www.kingsfund.org.uk/publications/deaths-covid-19?page=3#comment-567564)\n",
    "\n",
    "[ONS all cause mortality cross country comparison Jan-Jun2020](https://www.ons.gov.uk/peoplepopulationandcommunity/birthsdeathsandmarriages/deaths/articles/comparisonsofallcausemortalitybetweeneuropeancountriesandregions/januarytojune2020#measuring-the-data)\n",
    "\n",
    "[Eurostat weekly deaths special meta data](https://ec.europa.eu/eurostat/cache/metadata/en/demomwk_esms.htm)\n",
    "\n",
    "[ONS England and Wales Death Spreadsheets](https://www.ons.gov.uk/peoplepopulationandcommunity/birthsdeathsandmarriages/deaths/datasets/weeklyprovisionalfiguresondeathsregisteredinenglandandwales)\n",
    "\n",
    "[GOV report COVID impact on BAME communities](https://www.gov.uk/government/publications/covid-19-understanding-the-impact-on-bame-communities)\n",
    "\n",
    "[Health org global comparative report using excess deaths](https://www.health.org.uk/news-and-comment/charts-and-infographics/understanding-excess-deaths-countries-regions-localities?gclid=EAIaIQobChMIofj13oOH7gIVg4bVCh3rXgDIEAAYAyAAEgIoLvD_BwE)\n",
    "\n",
    "[Health org european excess death study](https://www.health.org.uk/news-and-comment/charts-and-infographics/comparing-covid-19-impact-in-the-uk-to-european-countries)\n",
    "\n",
    "[Study detailing 21 country comparison excess deaths](https://theconversation.com/coronavirus-excess-deaths-why-england-and-wales-have-been-hardest-hit-in-europe-new-study-147952)\n",
    "\n",
    "[GOV COVID API Docs](https://coronavirus.data.gov.uk/details/developers-guide)\n",
    "\n",
    "[ONS death reg delay impact on death stats whitepaper](https://www.ons.gov.uk/peoplepopulationandcommunity/birthsdeathsandmarriages/deaths/articles/impactofregistrationdelaysonmortalitystatisticsinenglandandwales/2018)\n",
    "\n",
    "[ONS national life tables](https://www.ons.gov.uk/peoplepopulationandcommunity/birthsdeathsandmarriages/lifeexpectancies/datasets/nationallifetablesunitedkingdomreferencetables)\n",
    "\n",
    "[Our World In Data COVID Excess death comparison](https://ourworldindata.org/excess-mortality-covid)\n",
    "\n",
    "[ONS UK population estimate data](https://www.ons.gov.uk/peoplepopulationandcommunity/populationandmigration/populationestimates/datasets/populationestimatesforukenglandandwalesscotlandandnorthernireland)\n",
    "\n",
    "[ONS population explanation note](https://www.ons.gov.uk/peoplepopulationandcommunity/populationandmigration/populationestimates/articles/ourpopulationwherearewehowdidwegetherewherearewegoing/2020-03-27)\n",
    "\n",
    "[PHE Excess Mortality Methodology Whitepaper](https://assets.publishing.service.gov.uk/government/uploads/system/uploads/attachment_data/file/952727/Excess_deaths_methodology_Jan_2021.pdf)\n",
    "\n",
    "[BMJ report on England meth coming into line with rest of UK](https://www.bmj.com/content/370/bmj.m3220)\n",
    "\n",
    "[Defining covid deats globally](https://publichealthmatters.blog.gov.uk/2020/08/12/behind-the-headlines-counting-covid-19-deaths/)\n",
    "\n",
    "[GOV Covid data api](https://coronavirus.data.gov.uk/details/download)\n",
    "\n",
    "[UK GOV COVID dashboard](https://coronavirus.data.gov.uk/details/deaths)\n",
    "\n"
   ]
  },
  {
   "cell_type": "code",
   "execution_count": null,
   "metadata": {},
   "outputs": [],
   "source": []
  },
  {
   "cell_type": "code",
   "execution_count": null,
   "metadata": {},
   "outputs": [],
   "source": []
  },
  {
   "cell_type": "code",
   "execution_count": null,
   "metadata": {},
   "outputs": [],
   "source": []
  },
  {
   "cell_type": "code",
   "execution_count": null,
   "metadata": {},
   "outputs": [],
   "source": []
  },
  {
   "cell_type": "markdown",
   "metadata": {},
   "source": [
    "[ESP explainer ONS](https://webarchive.nationalarchives.gov.uk/20160106020035/http://www.ons.gov.uk/ons/guide-method/user-guidance/health-and-life-events/revised-european-standard-population-2013--2013-esp-/index.html)\n",
    "\n"
   ]
  },
  {
   "cell_type": "code",
   "execution_count": null,
   "metadata": {},
   "outputs": [],
   "source": []
  }
 ],
 "metadata": {
  "kernelspec": {
   "display_name": "Python 3",
   "language": "python",
   "name": "python3"
  },
  "language_info": {
   "codemirror_mode": {
    "name": "ipython",
    "version": 3
   },
   "file_extension": ".py",
   "mimetype": "text/x-python",
   "name": "python",
   "nbconvert_exporter": "python",
   "pygments_lexer": "ipython3",
   "version": "3.7.9"
  }
 },
 "nbformat": 4,
 "nbformat_minor": 4
}
