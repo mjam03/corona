{
 "cells": [
  {
   "cell_type": "markdown",
   "metadata": {},
   "source": [
    "# UK Coronavirus Data"
   ]
  },
  {
   "cell_type": "markdown",
   "metadata": {},
   "source": [
    "Notebook to explore a combination of UK Gov provided coronavirus statistics, ONS population and demographic data and potentially some simple simulations"
   ]
  },
  {
   "cell_type": "markdown",
   "metadata": {},
   "source": [
    "__Imports__"
   ]
  },
  {
   "cell_type": "code",
   "execution_count": 1,
   "metadata": {},
   "outputs": [],
   "source": [
    "from IPython.core.display import HTML\n",
    "\n",
    "import datetime as dt\n",
    "from io import StringIO\n",
    "import json\n",
    "import matplotlib.pyplot as plt\n",
    "import pandas as pd\n",
    "import requests\n",
    "import seaborn as sns\n",
    "\n",
    "pd.options.display.max_columns = None\n",
    "pd.options.display.float_format = '{:,.2f}'.format\n",
    "%config Completer.use_jedi = False"
   ]
  },
  {
   "cell_type": "markdown",
   "metadata": {},
   "source": [
    "## 1. Motivating Questions"
   ]
  },
  {
   "cell_type": "markdown",
   "metadata": {},
   "source": [
    "- What is coronavirus and how does it hurt you and/or kill you?\n",
    "- How do we measure coronavirus related deaths?\n",
    "- Does coronavirus only affect 'old' people?\n",
    "- How does coronavirus compare to the standard seasonal flu?"
   ]
  },
  {
   "cell_type": "markdown",
   "metadata": {},
   "source": [
    "## 2. What is Coronavirus? How does it infect you?"
   ]
  },
  {
   "cell_type": "markdown",
   "metadata": {},
   "source": [
    "Firstly, what is a virus? According to [medicinenet](https://www.medicinenet.com/virus/definition.htm):\n",
    "\n",
    "\"Virus: A microorganism that is smaller than a bacterium that cannot grow or reproduce apart from a living cell. A virus invades living cells and uses their chemical machinery to keep itself alive and to replicate itself.\""
   ]
  },
  {
   "cell_type": "markdown",
   "metadata": {},
   "source": [
    "Coronaviruses are a type of virus - some cause the common cold, others seasonal flu, the recent strain (SARS-CoV-2) is responsible for COVID-19 and causes __S__evere __A__cute __R__espiratory __S__yndrome but all cause some sort of respiratory ailment"
   ]
  },
  {
   "cell_type": "markdown",
   "metadata": {},
   "source": [
    "#### How does it infect and harm?"
   ]
  },
  {
   "cell_type": "markdown",
   "metadata": {},
   "source": [
    " - Airborne disease: It travels in droplets spread by coughing, sneezing, heavy breathing - but is heavy and so the droplets drop to surfaces within several seconds\n",
    " - Requires a host: If breathed in, it finds a home to replicate in [ACE-2 receptors](https://www.sciencemag.org/news/2020/04/how-does-coronavirus-kill-clinicians-trace-ferocious-rampage-through-body-brain-toes) in the nose/throat - cells in the body with various [functions](https://en.wikipedia.org/wiki/Angiotensin-converting_enzyme_2)\n",
    " - Multiplies: Starts invading more receptors, multiplying and at this stage you have no/mild symptoms but are highly infectious\n",
    " - Invades Lungs: If your immune system doesn't fight it off, then it proceeds down your throat and finds more ACE-2 receptors in your lungs in the alveoli\n",
    " - Restricts Oxygen: Alveoli absorb oxygen from breathed in air into the blood - this is inhibited. Furthermore, your immune systme starts attacking infected alveoli further reducing oxygen absorption capability\n",
    " - Dead Cells: Produces dead cells - [puss](https://www.bbc.com/news/health-51214864) - which is then the thick mucus that people experience (thick cough)\n",
    " - Cytokene: Potentially immune system may produce a 'cytokene storm' where it produces cytokene to fight the virus in extreme quantities and it starts attacking healthy body functions - blood vessel walls etc"
   ]
  },
  {
   "cell_type": "markdown",
   "metadata": {},
   "source": [
    "## 3. How is the Impact Measured?"
   ]
  },
  {
   "cell_type": "markdown",
   "metadata": {},
   "source": [
    "In order to compare across cross-sections (London vs Liverpool) and through time (Mar2020 vs Dec2020) we need more than just annecdotal evidence\n",
    "\n",
    "For this we need data collection and summary statistics computed based on the datasets to:\n",
    " - Provide a basic overview of the disease\n",
    " - Enable epidemiologists to study the disease, model and predict future outcomes\n",
    " - Enable policy decisions to be made based on epidemiologist advice to combine science with politics / value judgements"
   ]
  },
  {
   "cell_type": "markdown",
   "metadata": {},
   "source": [
    "#### Several Ways to Measure Coronavirus Deaths"
   ]
  },
  {
   "cell_type": "markdown",
   "metadata": {},
   "source": [
    "As with most data, we cannot observe the true data perfectly and so we use sampling from the population to generate inference on the whole population (e.g. exit polls for elections, opinion polls)\n",
    "\n",
    "Several different ways used in the UK:\n",
    " - Those pronounced dead with coronavirus as the __cause of death on their death certificate__\n",
    " - Those pronounced dead who __tested positive__ or coronavirus in the __preceeding 28/60 days__\n",
    " - __'Excess deaths'__ over and above a historical average trend - adjusted for population growth, demographics etc"
   ]
  },
  {
   "cell_type": "code",
   "execution_count": null,
   "metadata": {},
   "outputs": [],
   "source": []
  }
 ],
 "metadata": {
  "kernelspec": {
   "display_name": "Python 3",
   "language": "python",
   "name": "python3"
  },
  "language_info": {
   "codemirror_mode": {
    "name": "ipython",
    "version": 3
   },
   "file_extension": ".py",
   "mimetype": "text/x-python",
   "name": "python",
   "nbconvert_exporter": "python",
   "pygments_lexer": "ipython3",
   "version": "3.7.9"
  }
 },
 "nbformat": 4,
 "nbformat_minor": 4
}
