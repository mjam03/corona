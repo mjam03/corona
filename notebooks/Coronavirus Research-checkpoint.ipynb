{
 "cells": [
  {
   "cell_type": "markdown",
   "metadata": {},
   "source": [
    "# Coronavirus Research"
   ]
  },
  {
   "cell_type": "markdown",
   "metadata": {},
   "source": [
    "Notebook to try to help make informed opinions and decisions around all things coronavirus related"
   ]
  },
  {
   "cell_type": "markdown",
   "metadata": {},
   "source": [
    "## 1. What is it?"
   ]
  },
  {
   "cell_type": "markdown",
   "metadata": {},
   "source": [
    "### 1a. Rough Biological Overview of How it Infects and Kills"
   ]
  },
  {
   "cell_type": "markdown",
   "metadata": {},
   "source": [
    "There are a handful of coronaviruses in circulation - 3-4 are responsible for the common cold and all cause some sort of respiratory ailments in humans (pnuemonia etc)\n",
    "\n",
    "COVID-19 infects humans in the following way:\n",
    " - Breathed in (it's an airborne disease so passed through water droplets in the air)\n",
    " - Searches and finds a home in [ACE-2 receptors](https://www.sciencemag.org/news/2020/04/how-does-coronavirus-kill-clinicians-trace-ferocious-rampage-through-body-brain-toes) in the nose/throat - cells in the body with various [functions](https://en.wikipedia.org/wiki/Angiotensin-converting_enzyme_2)\n",
    " - Hijacks these cells to multiply quickly and invade more cells - this is when the initial mild symptoms begin and you are highly infectious\n",
    " - Next, if your immune system doesn't fight it off, it proceeds down into the lungs which is when the more serious symtpoms begin\n",
    " - Alveoli are also high in ACE-2 and so it infects them and restricts natural oxygen flow into the blood\n",
    " - The immune system then attacks those cells which:\n",
    "  - Kills your lung function\n",
    "  - Produces dead cells - [puss](https://www.bbc.com/news/health-51214864) - which is then the thick mucus that people experience (thick cough)\n",
    " - Potentially immune system may produce a 'cytokene storm' where it produces cytokene to fight the virus in extreme quantities and it starts attacking healthy body functions - blood vessel walls etc"
   ]
  },
  {
   "cell_type": "markdown",
   "metadata": {},
   "source": [
    "### 1b. Reported Death Rates & Overview Stats"
   ]
  },
  {
   "cell_type": "markdown",
   "metadata": {},
   "source": [
    "Best dashboard for an overview presented by John Hopkins University [here](https://coronavirus.jhu.edu/map.html) - embedded below"
   ]
  },
  {
   "cell_type": "code",
   "execution_count": 2,
   "metadata": {
    "jupyter": {
     "source_hidden": true
    }
   },
   "outputs": [
    {
     "data": {
      "text/html": [
       "<style>.embed-container {position: relative; padding-bottom: 80%; height: 0; max-width: 100%;} .embed-container iframe, .embed-container object, .embed-container iframe{position: absolute; top: 0; left: 0; width: 100%; height: 100%;} small{position: absolute; z-index: 40; bottom: 0; margin-bottom: -15px;}</style><div class=\"embed-container\"><iframe width=\"500\" height=\"400\" frameborder=\"0\" scrolling=\"no\" marginheight=\"0\" marginwidth=\"0\" title=\"COVID-19\" src=\"https://www.arcgis.com/apps/opsdashboard/index.html#/bda7594740fd40299423467b48e9ecf6\"></iframe></div>"
      ],
      "text/plain": [
       "<IPython.core.display.HTML object>"
      ]
     },
     "execution_count": 2,
     "metadata": {},
     "output_type": "execute_result"
    }
   ],
   "source": [
    "from IPython.core.display import HTML\n",
    "HTML(\"\"\"<style>.embed-container {position: relative; padding-bottom: 80%; height: 0; max-width: 100%;} .embed-container iframe, .embed-container object, .embed-container iframe{position: absolute; top: 0; left: 0; width: 100%; height: 100%;} small{position: absolute; z-index: 40; bottom: 0; margin-bottom: -15px;}</style><div class=\"embed-container\"><iframe width=\"500\" height=\"400\" frameborder=\"0\" scrolling=\"no\" marginheight=\"0\" marginwidth=\"0\" title=\"COVID-19\" src=\"https://www.arcgis.com/apps/opsdashboard/index.html#/bda7594740fd40299423467b48e9ecf6\"></iframe></div>\"\"\")"
   ]
  }
 ],
 "metadata": {
  "kernelspec": {
   "display_name": "Python 3",
   "language": "python",
   "name": "python3"
  },
  "language_info": {
   "codemirror_mode": {
    "name": "ipython",
    "version": 3
   },
   "file_extension": ".py",
   "mimetype": "text/x-python",
   "name": "python",
   "nbconvert_exporter": "python",
   "pygments_lexer": "ipython3",
   "version": "3.7.9"
  }
 },
 "nbformat": 4,
 "nbformat_minor": 4
}
