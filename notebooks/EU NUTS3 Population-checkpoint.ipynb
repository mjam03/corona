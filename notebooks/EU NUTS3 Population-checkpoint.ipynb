{
 "cells": [
  {
   "cell_type": "markdown",
   "metadata": {},
   "source": [
    "# EU NUTS3 Population Data"
   ]
  },
  {
   "cell_type": "code",
   "execution_count": 38,
   "metadata": {},
   "outputs": [],
   "source": [
    "import datetime as dt\n",
    "import numpy as np\n",
    "import pandas as pd\n",
    "import seaborn as sns\n",
    "import sys\n",
    "import warnings\n",
    "\n",
    "%config Completer.use_jedi = False\n",
    "warnings.filterwarnings('ignore')"
   ]
  },
  {
   "cell_type": "markdown",
   "metadata": {},
   "source": [
    "## 1. Import EU NUTS3 Mortality Data"
   ]
  },
  {
   "cell_type": "markdown",
   "metadata": {},
   "source": [
    "Import the weekly death data from the Eurostat downloaded (and unzipped) tsv\n",
    "\n",
    "The raw data and file can be found under name 'demo_r_mweek3' [here](https://ec.europa.eu/eurostat/web/main/data/database) "
   ]
  },
  {
   "cell_type": "code",
   "execution_count": 2,
   "metadata": {},
   "outputs": [],
   "source": [
    "df = pd.read_csv('demo_r_mweek3.tsv', sep='\\t')"
   ]
  },
  {
   "cell_type": "code",
   "execution_count": 3,
   "metadata": {},
   "outputs": [],
   "source": [
    "df = df.rename(columns={\"unit,sex,age,geo\\\\time\": \"Headings\"})"
   ]
  },
  {
   "cell_type": "code",
   "execution_count": 4,
   "metadata": {},
   "outputs": [],
   "source": [
    "df[\"Headings\"] = df[\"Headings\"].apply(lambda x: x.split(','))"
   ]
  },
  {
   "cell_type": "code",
   "execution_count": 5,
   "metadata": {},
   "outputs": [],
   "source": [
    "df[['Unit', 'Sex', 'Age', 'Code']] = pd.DataFrame(df.Headings.tolist(), index= df.index)"
   ]
  },
  {
   "cell_type": "code",
   "execution_count": 6,
   "metadata": {},
   "outputs": [],
   "source": [
    "week_cols = [x for x in df.columns if 'W' in x]"
   ]
  },
  {
   "cell_type": "code",
   "execution_count": 7,
   "metadata": {},
   "outputs": [],
   "source": [
    "week_cols = [x for x in week_cols if any(str(y) in x for y in [2012, 2013, 2014, 2015, 2016, 2017, 2018, 2019, 2020, 2021]) and '99' not in x]"
   ]
  },
  {
   "cell_type": "code",
   "execution_count": 8,
   "metadata": {},
   "outputs": [],
   "source": [
    "df = df[['Unit', 'Sex', 'Age', 'Code'] + week_cols]"
   ]
  },
  {
   "cell_type": "code",
   "execution_count": 9,
   "metadata": {},
   "outputs": [],
   "source": [
    "df_raw = pd.melt(df, id_vars=['Unit', 'Sex', 'Age', 'Code'], var_name=['Week'], value_vars=week_cols)"
   ]
  },
  {
   "cell_type": "code",
   "execution_count": 10,
   "metadata": {},
   "outputs": [],
   "source": [
    "df_raw = df_raw.rename(columns={'value': 'Deaths'})"
   ]
  },
  {
   "cell_type": "code",
   "execution_count": 13,
   "metadata": {},
   "outputs": [],
   "source": [
    "df_raw = df_raw.drop(columns=['Unit'])"
   ]
  },
  {
   "cell_type": "code",
   "execution_count": 16,
   "metadata": {},
   "outputs": [],
   "source": [
    "df_raw = df_raw[~df_raw.Age.isin(['TOTAL', 'UNK'])]\n",
    "df_raw = df_raw[df_raw.Sex != 'T']"
   ]
  },
  {
   "cell_type": "code",
   "execution_count": 28,
   "metadata": {},
   "outputs": [
    {
     "name": "stdout",
     "output_type": "stream",
     "text": [
      "df_raw takes up 1,202.75MB of memory\n"
     ]
    }
   ],
   "source": [
    "print(\"df_raw takes up {:,.2f}MB of memory\".format(df_raw.memory_usage().values.sum() / 1000000))"
   ]
  },
  {
   "cell_type": "code",
   "execution_count": 18,
   "metadata": {},
   "outputs": [
    {
     "data": {
      "text/html": [
       "<div>\n",
       "<style scoped>\n",
       "    .dataframe tbody tr th:only-of-type {\n",
       "        vertical-align: middle;\n",
       "    }\n",
       "\n",
       "    .dataframe tbody tr th {\n",
       "        vertical-align: top;\n",
       "    }\n",
       "\n",
       "    .dataframe thead th {\n",
       "        text-align: right;\n",
       "    }\n",
       "</style>\n",
       "<table border=\"1\" class=\"dataframe\">\n",
       "  <thead>\n",
       "    <tr style=\"text-align: right;\">\n",
       "      <th></th>\n",
       "      <th>Sex</th>\n",
       "      <th>Age</th>\n",
       "      <th>Code</th>\n",
       "      <th>Week</th>\n",
       "      <th>Deaths</th>\n",
       "    </tr>\n",
       "  </thead>\n",
       "  <tbody>\n",
       "    <tr>\n",
       "      <th>2800</th>\n",
       "      <td>F</td>\n",
       "      <td>Y10-14</td>\n",
       "      <td>AL</td>\n",
       "      <td>2021W01</td>\n",
       "      <td>:</td>\n",
       "    </tr>\n",
       "    <tr>\n",
       "      <th>2801</th>\n",
       "      <td>F</td>\n",
       "      <td>Y10-14</td>\n",
       "      <td>AL0</td>\n",
       "      <td>2021W01</td>\n",
       "      <td>:</td>\n",
       "    </tr>\n",
       "    <tr>\n",
       "      <th>2802</th>\n",
       "      <td>F</td>\n",
       "      <td>Y10-14</td>\n",
       "      <td>AL01</td>\n",
       "      <td>2021W01</td>\n",
       "      <td>:</td>\n",
       "    </tr>\n",
       "    <tr>\n",
       "      <th>2803</th>\n",
       "      <td>F</td>\n",
       "      <td>Y10-14</td>\n",
       "      <td>AL011</td>\n",
       "      <td>2021W01</td>\n",
       "      <td>:</td>\n",
       "    </tr>\n",
       "    <tr>\n",
       "      <th>2804</th>\n",
       "      <td>F</td>\n",
       "      <td>Y10-14</td>\n",
       "      <td>AL012</td>\n",
       "      <td>2021W01</td>\n",
       "      <td>:</td>\n",
       "    </tr>\n",
       "  </tbody>\n",
       "</table>\n",
       "</div>"
      ],
      "text/plain": [
       "     Sex     Age   Code      Week Deaths\n",
       "2800   F  Y10-14     AL  2021W01      : \n",
       "2801   F  Y10-14    AL0  2021W01      : \n",
       "2802   F  Y10-14   AL01  2021W01      : \n",
       "2803   F  Y10-14  AL011  2021W01      : \n",
       "2804   F  Y10-14  AL012  2021W01      : "
      ]
     },
     "execution_count": 18,
     "metadata": {},
     "output_type": "execute_result"
    }
   ],
   "source": [
    "df_raw.head()"
   ]
  },
  {
   "cell_type": "code",
   "execution_count": 34,
   "metadata": {},
   "outputs": [
    {
     "name": "stdout",
     "output_type": "stream",
     "text": [
      "Have split the column\n",
      "Converting col Year to number type\n",
      "Converting col Week to number type\n"
     ]
    }
   ],
   "source": [
    "df_raw[['Year', 'Week']] = pd.DataFrame(df_raw['Week'].str.split('W').tolist(), index=df_raw.index)\n",
    "\n",
    "print('Have split the column')\n",
    "\n",
    "for col in ['Year', 'Week']:\n",
    "    print('Converting col {} to number type'.format(col))\n",
    "    df_raw[col] = pd.to_numeric(df_raw[col])"
   ]
  },
  {
   "cell_type": "code",
   "execution_count": 35,
   "metadata": {},
   "outputs": [
    {
     "name": "stdout",
     "output_type": "stream",
     "text": [
      "df_raw takes up 1,403.20MB of memory\n"
     ]
    }
   ],
   "source": [
    "print(\"df_raw takes up {:,.2f}MB of memory\".format(df_raw.memory_usage().values.sum() / 1000000))"
   ]
  },
  {
   "cell_type": "code",
   "execution_count": 40,
   "metadata": {},
   "outputs": [
    {
     "data": {
      "text/html": [
       "<div>\n",
       "<style scoped>\n",
       "    .dataframe tbody tr th:only-of-type {\n",
       "        vertical-align: middle;\n",
       "    }\n",
       "\n",
       "    .dataframe tbody tr th {\n",
       "        vertical-align: top;\n",
       "    }\n",
       "\n",
       "    .dataframe thead th {\n",
       "        text-align: right;\n",
       "    }\n",
       "</style>\n",
       "<table border=\"1\" class=\"dataframe\">\n",
       "  <thead>\n",
       "    <tr style=\"text-align: right;\">\n",
       "      <th></th>\n",
       "      <th>Sex</th>\n",
       "      <th>Age</th>\n",
       "      <th>Code</th>\n",
       "      <th>Week</th>\n",
       "      <th>Deaths</th>\n",
       "      <th>Year</th>\n",
       "    </tr>\n",
       "  </thead>\n",
       "  <tbody>\n",
       "    <tr>\n",
       "      <th>2800</th>\n",
       "      <td>F</td>\n",
       "      <td>Y10-14</td>\n",
       "      <td>AL</td>\n",
       "      <td>1</td>\n",
       "      <td>:</td>\n",
       "      <td>2021</td>\n",
       "    </tr>\n",
       "    <tr>\n",
       "      <th>2801</th>\n",
       "      <td>F</td>\n",
       "      <td>Y10-14</td>\n",
       "      <td>AL0</td>\n",
       "      <td>1</td>\n",
       "      <td>:</td>\n",
       "      <td>2021</td>\n",
       "    </tr>\n",
       "    <tr>\n",
       "      <th>2802</th>\n",
       "      <td>F</td>\n",
       "      <td>Y10-14</td>\n",
       "      <td>AL01</td>\n",
       "      <td>1</td>\n",
       "      <td>:</td>\n",
       "      <td>2021</td>\n",
       "    </tr>\n",
       "    <tr>\n",
       "      <th>2803</th>\n",
       "      <td>F</td>\n",
       "      <td>Y10-14</td>\n",
       "      <td>AL011</td>\n",
       "      <td>1</td>\n",
       "      <td>:</td>\n",
       "      <td>2021</td>\n",
       "    </tr>\n",
       "    <tr>\n",
       "      <th>2804</th>\n",
       "      <td>F</td>\n",
       "      <td>Y10-14</td>\n",
       "      <td>AL012</td>\n",
       "      <td>1</td>\n",
       "      <td>:</td>\n",
       "      <td>2021</td>\n",
       "    </tr>\n",
       "  </tbody>\n",
       "</table>\n",
       "</div>"
      ],
      "text/plain": [
       "     Sex     Age   Code  Week Deaths  Year\n",
       "2800   F  Y10-14     AL     1     :   2021\n",
       "2801   F  Y10-14    AL0     1     :   2021\n",
       "2802   F  Y10-14   AL01     1     :   2021\n",
       "2803   F  Y10-14  AL011     1     :   2021\n",
       "2804   F  Y10-14  AL012     1     :   2021"
      ]
     },
     "execution_count": 40,
     "metadata": {},
     "output_type": "execute_result"
    }
   ],
   "source": [
    "df_raw.head()"
   ]
  },
  {
   "cell_type": "code",
   "execution_count": 36,
   "metadata": {},
   "outputs": [],
   "source": [
    "del df"
   ]
  },
  {
   "cell_type": "code",
   "execution_count": 45,
   "metadata": {},
   "outputs": [
    {
     "data": {
      "text/plain": [
       "[('df_raw', 1110464885),\n",
       " ('week_cols', 4280),\n",
       " ('dt', 88),\n",
       " ('np', 88),\n",
       " ('pd', 88),\n",
       " ('sns', 88),\n",
       " ('col', 53)]"
      ]
     },
     "execution_count": 45,
     "metadata": {},
     "output_type": "execute_result"
    }
   ],
   "source": [
    "# These are the usual ipython objects, including this one you are creating\n",
    "ipython_vars = ['In', 'Out', 'exit', 'quit', 'get_ipython', 'ipython_vars']\n",
    "\n",
    "# Get a sorted list of the objects and their sizes\n",
    "sorted([(x, sys.getsizeof(globals().get(x))) for x in dir() if not x.startswith('_') and x not in sys.modules and x not in ipython_vars], key=lambda x: x[1], reverse=True)"
   ]
  },
  {
   "cell_type": "code",
   "execution_count": 43,
   "metadata": {},
   "outputs": [],
   "source": [
    "df_raw = df_raw[df_raw['Code'].str.contains('UK')]"
   ]
  },
  {
   "cell_type": "code",
   "execution_count": 44,
   "metadata": {},
   "outputs": [
    {
     "data": {
      "text/html": [
       "<div>\n",
       "<style scoped>\n",
       "    .dataframe tbody tr th:only-of-type {\n",
       "        vertical-align: middle;\n",
       "    }\n",
       "\n",
       "    .dataframe tbody tr th {\n",
       "        vertical-align: top;\n",
       "    }\n",
       "\n",
       "    .dataframe thead th {\n",
       "        text-align: right;\n",
       "    }\n",
       "</style>\n",
       "<table border=\"1\" class=\"dataframe\">\n",
       "  <thead>\n",
       "    <tr style=\"text-align: right;\">\n",
       "      <th></th>\n",
       "      <th>Sex</th>\n",
       "      <th>Age</th>\n",
       "      <th>Code</th>\n",
       "      <th>Week</th>\n",
       "      <th>Deaths</th>\n",
       "      <th>Year</th>\n",
       "    </tr>\n",
       "  </thead>\n",
       "  <tbody>\n",
       "    <tr>\n",
       "      <th>3967</th>\n",
       "      <td>F</td>\n",
       "      <td>Y10-14</td>\n",
       "      <td>UK</td>\n",
       "      <td>1</td>\n",
       "      <td>:</td>\n",
       "      <td>2021</td>\n",
       "    </tr>\n",
       "    <tr>\n",
       "      <th>3968</th>\n",
       "      <td>F</td>\n",
       "      <td>Y10-14</td>\n",
       "      <td>UKC</td>\n",
       "      <td>1</td>\n",
       "      <td>:</td>\n",
       "      <td>2021</td>\n",
       "    </tr>\n",
       "    <tr>\n",
       "      <th>3969</th>\n",
       "      <td>F</td>\n",
       "      <td>Y10-14</td>\n",
       "      <td>UKC1</td>\n",
       "      <td>1</td>\n",
       "      <td>:</td>\n",
       "      <td>2021</td>\n",
       "    </tr>\n",
       "    <tr>\n",
       "      <th>3970</th>\n",
       "      <td>F</td>\n",
       "      <td>Y10-14</td>\n",
       "      <td>UKC11</td>\n",
       "      <td>1</td>\n",
       "      <td>:</td>\n",
       "      <td>2021</td>\n",
       "    </tr>\n",
       "    <tr>\n",
       "      <th>3971</th>\n",
       "      <td>F</td>\n",
       "      <td>Y10-14</td>\n",
       "      <td>UKC12</td>\n",
       "      <td>1</td>\n",
       "      <td>:</td>\n",
       "      <td>2021</td>\n",
       "    </tr>\n",
       "    <tr>\n",
       "      <th>...</th>\n",
       "      <td>...</td>\n",
       "      <td>...</td>\n",
       "      <td>...</td>\n",
       "      <td>...</td>\n",
       "      <td>...</td>\n",
       "      <td>...</td>\n",
       "    </tr>\n",
       "    <tr>\n",
       "      <th>41522665</th>\n",
       "      <td>M</td>\n",
       "      <td>Y_LT5</td>\n",
       "      <td>UKN12</td>\n",
       "      <td>1</td>\n",
       "      <td>:</td>\n",
       "      <td>2012</td>\n",
       "    </tr>\n",
       "    <tr>\n",
       "      <th>41522666</th>\n",
       "      <td>M</td>\n",
       "      <td>Y_LT5</td>\n",
       "      <td>UKN13</td>\n",
       "      <td>1</td>\n",
       "      <td>:</td>\n",
       "      <td>2012</td>\n",
       "    </tr>\n",
       "    <tr>\n",
       "      <th>41522667</th>\n",
       "      <td>M</td>\n",
       "      <td>Y_LT5</td>\n",
       "      <td>UKN14</td>\n",
       "      <td>1</td>\n",
       "      <td>:</td>\n",
       "      <td>2012</td>\n",
       "    </tr>\n",
       "    <tr>\n",
       "      <th>41522668</th>\n",
       "      <td>M</td>\n",
       "      <td>Y_LT5</td>\n",
       "      <td>UKN15</td>\n",
       "      <td>1</td>\n",
       "      <td>:</td>\n",
       "      <td>2012</td>\n",
       "    </tr>\n",
       "    <tr>\n",
       "      <th>41522669</th>\n",
       "      <td>M</td>\n",
       "      <td>Y_LT5</td>\n",
       "      <td>UKN16</td>\n",
       "      <td>1</td>\n",
       "      <td>:</td>\n",
       "      <td>2012</td>\n",
       "    </tr>\n",
       "  </tbody>\n",
       "</table>\n",
       "<p>4170234 rows × 6 columns</p>\n",
       "</div>"
      ],
      "text/plain": [
       "         Sex     Age   Code  Week Deaths  Year\n",
       "3967       F  Y10-14     UK     1     :   2021\n",
       "3968       F  Y10-14    UKC     1     :   2021\n",
       "3969       F  Y10-14   UKC1     1     :   2021\n",
       "3970       F  Y10-14  UKC11     1     :   2021\n",
       "3971       F  Y10-14  UKC12     1     :   2021\n",
       "...       ..     ...    ...   ...    ...   ...\n",
       "41522665   M   Y_LT5  UKN12     1     :   2012\n",
       "41522666   M   Y_LT5  UKN13     1     :   2012\n",
       "41522667   M   Y_LT5  UKN14     1     :   2012\n",
       "41522668   M   Y_LT5  UKN15     1     :   2012\n",
       "41522669   M   Y_LT5  UKN16     1     :   2012\n",
       "\n",
       "[4170234 rows x 6 columns]"
      ]
     },
     "execution_count": 44,
     "metadata": {},
     "output_type": "execute_result"
    }
   ],
   "source": [
    "df_raw"
   ]
  },
  {
   "cell_type": "code",
   "execution_count": 47,
   "metadata": {},
   "outputs": [],
   "source": [
    "df_raw['Deaths'] = df_raw['Deaths'].str.replace(' p', '')\n",
    "df_raw['Deaths'] = np.where(df_raw['Deaths'] == ': ', np.nan, df_raw['Deaths'])\n",
    "\n",
    "df_raw['Deaths'] = pd.to_numeric(df_raw['Deaths'])"
   ]
  },
  {
   "cell_type": "markdown",
   "metadata": {},
   "source": [
    "## 2. Join on Mapping Data"
   ]
  },
  {
   "cell_type": "markdown",
   "metadata": {},
   "source": [
    "Now we have our stats per NUTS3 region in the UK along with week numbers we can join on relevant mapping data"
   ]
  },
  {
   "cell_type": "markdown",
   "metadata": {},
   "source": [
    "### 2a. Create Week Date Mapping Data"
   ]
  },
  {
   "cell_type": "markdown",
   "metadata": {},
   "source": [
    "First let's create a mapping from {Year, WeekNumber} to an actual start and end date to help with time series plotting"
   ]
  },
  {
   "cell_type": "code",
   "execution_count": 54,
   "metadata": {},
   "outputs": [],
   "source": [
    "START_DATE = dt.date(2012, 12, 29)"
   ]
  },
  {
   "cell_type": "code",
   "execution_count": 55,
   "metadata": {},
   "outputs": [],
   "source": [
    "start_date_list = [START_DATE+dt.timedelta(days=7*x) for x in range(0,800)]"
   ]
  },
  {
   "cell_type": "code",
   "execution_count": 56,
   "metadata": {},
   "outputs": [],
   "source": [
    "start_date_list = [x for x in start_date_list if x < (dt.date.today() + dt.timedelta(days=28))]"
   ]
  },
  {
   "cell_type": "code",
   "execution_count": 57,
   "metadata": {},
   "outputs": [],
   "source": [
    "end_date_list = [x + dt.timedelta(days=-1) for x in start_date_list[1:]]"
   ]
  },
  {
   "cell_type": "code",
   "execution_count": 58,
   "metadata": {},
   "outputs": [],
   "source": [
    "df_week_map = pd.DataFrame({'StartDate': start_date_list[:-1], 'EndDate': end_date_list})"
   ]
  },
  {
   "cell_type": "code",
   "execution_count": 59,
   "metadata": {},
   "outputs": [],
   "source": [
    "use_next_year = [x>dt.timedelta(days=359) for x in [x - dt.date(x.year, 1, 1) for x in start_date_list[:-1]]]"
   ]
  },
  {
   "cell_type": "code",
   "execution_count": 60,
   "metadata": {},
   "outputs": [],
   "source": [
    "df_week_map['use_next_year'] = use_next_year"
   ]
  },
  {
   "cell_type": "code",
   "execution_count": 61,
   "metadata": {},
   "outputs": [],
   "source": [
    "df_week_map['Year'] = df_week_map['StartDate'].apply(lambda x: x.year) + np.where(df_week_map['use_next_year'], 1, 0)"
   ]
  },
  {
   "cell_type": "code",
   "execution_count": 62,
   "metadata": {},
   "outputs": [],
   "source": [
    "df_week_map['WeekCount'] = df_week_map[['use_next_year', 'Year']].groupby(['Year']).cumcount() + 1"
   ]
  },
  {
   "cell_type": "code",
   "execution_count": 63,
   "metadata": {},
   "outputs": [
    {
     "data": {
      "text/html": [
       "<div>\n",
       "<style scoped>\n",
       "    .dataframe tbody tr th:only-of-type {\n",
       "        vertical-align: middle;\n",
       "    }\n",
       "\n",
       "    .dataframe tbody tr th {\n",
       "        vertical-align: top;\n",
       "    }\n",
       "\n",
       "    .dataframe thead th {\n",
       "        text-align: right;\n",
       "    }\n",
       "</style>\n",
       "<table border=\"1\" class=\"dataframe\">\n",
       "  <thead>\n",
       "    <tr style=\"text-align: right;\">\n",
       "      <th></th>\n",
       "      <th>StartDate</th>\n",
       "      <th>EndDate</th>\n",
       "      <th>use_next_year</th>\n",
       "      <th>Year</th>\n",
       "      <th>WeekCount</th>\n",
       "    </tr>\n",
       "  </thead>\n",
       "  <tbody>\n",
       "    <tr>\n",
       "      <th>419</th>\n",
       "      <td>2021-01-09</td>\n",
       "      <td>2021-01-15</td>\n",
       "      <td>False</td>\n",
       "      <td>2021</td>\n",
       "      <td>3</td>\n",
       "    </tr>\n",
       "    <tr>\n",
       "      <th>420</th>\n",
       "      <td>2021-01-16</td>\n",
       "      <td>2021-01-22</td>\n",
       "      <td>False</td>\n",
       "      <td>2021</td>\n",
       "      <td>4</td>\n",
       "    </tr>\n",
       "    <tr>\n",
       "      <th>421</th>\n",
       "      <td>2021-01-23</td>\n",
       "      <td>2021-01-29</td>\n",
       "      <td>False</td>\n",
       "      <td>2021</td>\n",
       "      <td>5</td>\n",
       "    </tr>\n",
       "    <tr>\n",
       "      <th>422</th>\n",
       "      <td>2021-01-30</td>\n",
       "      <td>2021-02-05</td>\n",
       "      <td>False</td>\n",
       "      <td>2021</td>\n",
       "      <td>6</td>\n",
       "    </tr>\n",
       "    <tr>\n",
       "      <th>423</th>\n",
       "      <td>2021-02-06</td>\n",
       "      <td>2021-02-12</td>\n",
       "      <td>False</td>\n",
       "      <td>2021</td>\n",
       "      <td>7</td>\n",
       "    </tr>\n",
       "  </tbody>\n",
       "</table>\n",
       "</div>"
      ],
      "text/plain": [
       "      StartDate     EndDate  use_next_year  Year  WeekCount\n",
       "419  2021-01-09  2021-01-15          False  2021          3\n",
       "420  2021-01-16  2021-01-22          False  2021          4\n",
       "421  2021-01-23  2021-01-29          False  2021          5\n",
       "422  2021-01-30  2021-02-05          False  2021          6\n",
       "423  2021-02-06  2021-02-12          False  2021          7"
      ]
     },
     "execution_count": 63,
     "metadata": {},
     "output_type": "execute_result"
    }
   ],
   "source": [
    "df_week_map.tail()"
   ]
  },
  {
   "cell_type": "markdown",
   "metadata": {},
   "source": [
    "### 2b. Join Week Mapping Data On"
   ]
  },
  {
   "cell_type": "code",
   "execution_count": 65,
   "metadata": {},
   "outputs": [],
   "source": [
    "df_raw = pd.merge(left=df_raw, right=df_week_map, left_on=['Year', 'Week'], right_on=['Year', 'WeekCount'])"
   ]
  },
  {
   "cell_type": "code",
   "execution_count": 67,
   "metadata": {},
   "outputs": [],
   "source": [
    "df_raw = df_raw.drop(columns=['use_next_year', 'WeekCount'])"
   ]
  },
  {
   "cell_type": "markdown",
   "metadata": {},
   "source": [
    "### 2c. Join on NUTS Regional Data"
   ]
  },
  {
   "cell_type": "code",
   "execution_count": 68,
   "metadata": {},
   "outputs": [],
   "source": [
    "df_nuts = pd.read_csv(\"NUTS3.csv\")"
   ]
  },
  {
   "cell_type": "code",
   "execution_count": 72,
   "metadata": {},
   "outputs": [],
   "source": [
    "df = pd.merge(left=df_raw, right=df_nuts, on='Code', how='left')"
   ]
  },
  {
   "cell_type": "code",
   "execution_count": 81,
   "metadata": {},
   "outputs": [],
   "source": [
    "df = df[~df.NUTS3.isna()]"
   ]
  },
  {
   "cell_type": "code",
   "execution_count": 92,
   "metadata": {},
   "outputs": [],
   "source": [
    "age_bands = {'Y_LT5': '0-19',\n",
    "             'Y5-9': '0-19',\n",
    "             'Y10-14': '0-19',\n",
    "             'Y15-19': '0-19',\n",
    "             'Y20-24': '20-39',\n",
    "             'Y25-29': '20-39',\n",
    "             'Y30-34': '20-39',\n",
    "             'Y35-39': '20-39',\n",
    "             'Y40-44': '40-59',\n",
    "             'Y45-49': '40-59',\n",
    "             'Y50-54': '40-59',\n",
    "             'Y55-59': '40-59',\n",
    "             'Y60-64': '60-69',\n",
    "             'Y65-69': '60-69',\n",
    "             'Y70-74': '70-79',\n",
    "             'Y75-79': '70-79',\n",
    "             'Y80-84': '80-89',\n",
    "             'Y85-89': '80-89',\n",
    "             'Y_GE90': '90+'}"
   ]
  },
  {
   "cell_type": "code",
   "execution_count": 93,
   "metadata": {},
   "outputs": [],
   "source": [
    "df['AgeBand'] = df['Age'].map(age_bands)"
   ]
  },
  {
   "cell_type": "markdown",
   "metadata": {},
   "source": [
    "## 3. Join on Population Estimate Data"
   ]
  },
  {
   "cell_type": "markdown",
   "metadata": {},
   "source": [
    "Now we have the data for deaths, regionally broken down, we need to get the same data for population figures so we can compute rates (deaths / pop)"
   ]
  },
  {
   "cell_type": "markdown",
   "metadata": {},
   "source": [
    "### 3a. Read in & Clean Raw Population Data"
   ]
  },
  {
   "cell_type": "code",
   "execution_count": 122,
   "metadata": {},
   "outputs": [],
   "source": [
    "df_pop = pd.read_csv(\"demo_r_pjangrp3.tsv\", sep='\\t')"
   ]
  },
  {
   "cell_type": "code",
   "execution_count": 123,
   "metadata": {},
   "outputs": [
    {
     "data": {
      "text/html": [
       "<div>\n",
       "<style scoped>\n",
       "    .dataframe tbody tr th:only-of-type {\n",
       "        vertical-align: middle;\n",
       "    }\n",
       "\n",
       "    .dataframe tbody tr th {\n",
       "        vertical-align: top;\n",
       "    }\n",
       "\n",
       "    .dataframe thead th {\n",
       "        text-align: right;\n",
       "    }\n",
       "</style>\n",
       "<table border=\"1\" class=\"dataframe\">\n",
       "  <thead>\n",
       "    <tr style=\"text-align: right;\">\n",
       "      <th></th>\n",
       "      <th>sex,unit,age,geo\\time</th>\n",
       "      <th>2019</th>\n",
       "      <th>2018</th>\n",
       "      <th>2017</th>\n",
       "      <th>2016</th>\n",
       "      <th>2015</th>\n",
       "      <th>2014</th>\n",
       "    </tr>\n",
       "  </thead>\n",
       "  <tbody>\n",
       "    <tr>\n",
       "      <th>0</th>\n",
       "      <td>F,NR,TOTAL,AL</td>\n",
       "      <td>1432833</td>\n",
       "      <td>1431715</td>\n",
       "      <td>1423050</td>\n",
       "      <td>1417141</td>\n",
       "      <td>1424597</td>\n",
       "      <td>1430827</td>\n",
       "    </tr>\n",
       "    <tr>\n",
       "      <th>1</th>\n",
       "      <td>F,NR,TOTAL,AL0</td>\n",
       "      <td>1432833</td>\n",
       "      <td>1431715</td>\n",
       "      <td>1423050</td>\n",
       "      <td>1417141</td>\n",
       "      <td>1424597</td>\n",
       "      <td>1430827</td>\n",
       "    </tr>\n",
       "    <tr>\n",
       "      <th>2</th>\n",
       "      <td>F,NR,TOTAL,AL01</td>\n",
       "      <td>404201</td>\n",
       "      <td>405598</td>\n",
       "      <td>405835</td>\n",
       "      <td>406682</td>\n",
       "      <td>410586</td>\n",
       "      <td>416084</td>\n",
       "    </tr>\n",
       "    <tr>\n",
       "      <th>3</th>\n",
       "      <td>F,NR,TOTAL,AL011</td>\n",
       "      <td>57002</td>\n",
       "      <td>57895</td>\n",
       "      <td>59837</td>\n",
       "      <td>61749</td>\n",
       "      <td>63084</td>\n",
       "      <td>64941</td>\n",
       "    </tr>\n",
       "    <tr>\n",
       "      <th>4</th>\n",
       "      <td>F,NR,TOTAL,AL012</td>\n",
       "      <td>143366</td>\n",
       "      <td>142648</td>\n",
       "      <td>139433</td>\n",
       "      <td>136589</td>\n",
       "      <td>135847</td>\n",
       "      <td>135390</td>\n",
       "    </tr>\n",
       "  </tbody>\n",
       "</table>\n",
       "</div>"
      ],
      "text/plain": [
       "  sex,unit,age,geo\\time     2019      2018      2017      2016      2015   \\\n",
       "0         F,NR,TOTAL,AL  1432833   1431715   1423050   1417141   1424597    \n",
       "1        F,NR,TOTAL,AL0  1432833   1431715   1423050   1417141   1424597    \n",
       "2       F,NR,TOTAL,AL01   404201    405598    405835    406682    410586    \n",
       "3      F,NR,TOTAL,AL011    57002     57895     59837     61749     63084    \n",
       "4      F,NR,TOTAL,AL012   143366    142648    139433    136589    135847    \n",
       "\n",
       "      2014   \n",
       "0  1430827   \n",
       "1  1430827   \n",
       "2   416084   \n",
       "3    64941   \n",
       "4   135390   "
      ]
     },
     "execution_count": 123,
     "metadata": {},
     "output_type": "execute_result"
    }
   ],
   "source": [
    "df_pop.head()"
   ]
  },
  {
   "cell_type": "code",
   "execution_count": 124,
   "metadata": {},
   "outputs": [],
   "source": [
    "df_pop = df_pop.rename(columns={\"sex,unit,age,geo\\\\time\": \"Headings\"})"
   ]
  },
  {
   "cell_type": "code",
   "execution_count": 125,
   "metadata": {},
   "outputs": [],
   "source": [
    "df_pop[\"Headings\"] = df_pop[\"Headings\"].apply(lambda x: x.split(','))"
   ]
  },
  {
   "cell_type": "code",
   "execution_count": 126,
   "metadata": {},
   "outputs": [],
   "source": [
    "df_pop[['Sex', 'Unit', 'Age', 'Code']] = pd.DataFrame(df_pop.Headings.tolist(), index= df_pop.index)\n",
    "df_pop = df_pop.drop(columns=['Unit'])"
   ]
  },
  {
   "cell_type": "code",
   "execution_count": 127,
   "metadata": {},
   "outputs": [],
   "source": [
    "df_pop = df_pop[df_pop.Sex != 'T']\n",
    "df_pop = df_pop[~df_pop.Age.isin(['TOTAL', 'UNK'])]"
   ]
  },
  {
   "cell_type": "code",
   "execution_count": 128,
   "metadata": {},
   "outputs": [],
   "source": [
    "df_pop = pd.melt(df_pop, id_vars=['Sex', 'Age', 'Code'], var_name=['Year'], value_vars=['2014 ', '2015 ', '2016 ', '2017 ', '2018 ', '2019 '], value_name='Pop')"
   ]
  },
  {
   "cell_type": "code",
   "execution_count": 131,
   "metadata": {},
   "outputs": [
    {
     "data": {
      "text/html": [
       "<div>\n",
       "<style scoped>\n",
       "    .dataframe tbody tr th:only-of-type {\n",
       "        vertical-align: middle;\n",
       "    }\n",
       "\n",
       "    .dataframe tbody tr th {\n",
       "        vertical-align: top;\n",
       "    }\n",
       "\n",
       "    .dataframe thead th {\n",
       "        text-align: right;\n",
       "    }\n",
       "</style>\n",
       "<table border=\"1\" class=\"dataframe\">\n",
       "  <thead>\n",
       "    <tr style=\"text-align: right;\">\n",
       "      <th></th>\n",
       "      <th>Sex</th>\n",
       "      <th>Age</th>\n",
       "      <th>Code</th>\n",
       "      <th>Year</th>\n",
       "      <th>Pop</th>\n",
       "    </tr>\n",
       "  </thead>\n",
       "  <tbody>\n",
       "    <tr>\n",
       "      <th>0</th>\n",
       "      <td>F</td>\n",
       "      <td>Y10-14</td>\n",
       "      <td>AL</td>\n",
       "      <td>2014</td>\n",
       "      <td>104133</td>\n",
       "    </tr>\n",
       "    <tr>\n",
       "      <th>1</th>\n",
       "      <td>F</td>\n",
       "      <td>Y10-14</td>\n",
       "      <td>AL0</td>\n",
       "      <td>2014</td>\n",
       "      <td>104133</td>\n",
       "    </tr>\n",
       "    <tr>\n",
       "      <th>2</th>\n",
       "      <td>F</td>\n",
       "      <td>Y10-14</td>\n",
       "      <td>AL01</td>\n",
       "      <td>2014</td>\n",
       "      <td>31054</td>\n",
       "    </tr>\n",
       "    <tr>\n",
       "      <th>3</th>\n",
       "      <td>F</td>\n",
       "      <td>Y10-14</td>\n",
       "      <td>AL011</td>\n",
       "      <td>2014</td>\n",
       "      <td>5112</td>\n",
       "    </tr>\n",
       "    <tr>\n",
       "      <th>4</th>\n",
       "      <td>F</td>\n",
       "      <td>Y10-14</td>\n",
       "      <td>AL012</td>\n",
       "      <td>2014</td>\n",
       "      <td>9656</td>\n",
       "    </tr>\n",
       "  </tbody>\n",
       "</table>\n",
       "</div>"
      ],
      "text/plain": [
       "  Sex     Age   Code   Year      Pop\n",
       "0   F  Y10-14     AL  2014   104133 \n",
       "1   F  Y10-14    AL0  2014   104133 \n",
       "2   F  Y10-14   AL01  2014    31054 \n",
       "3   F  Y10-14  AL011  2014     5112 \n",
       "4   F  Y10-14  AL012  2014     9656 "
      ]
     },
     "execution_count": 131,
     "metadata": {},
     "output_type": "execute_result"
    }
   ],
   "source": [
    "df_pop.head()"
   ]
  },
  {
   "cell_type": "code",
   "execution_count": 145,
   "metadata": {},
   "outputs": [],
   "source": [
    "num_iregs = [\":\", \"b\", \"p\", \"e\", \" \"]\n",
    "for ireg in num_iregs:\n",
    "    df_pop.Pop = df_pop.Pop.str.replace(ireg, \"\")\n",
    "\n",
    "df_pop.Year = pd.to_numeric(df_pop.Year)\n",
    "df_pop.Pop = pd.to_numeric(df_pop.Pop)"
   ]
  },
  {
   "cell_type": "code",
   "execution_count": 148,
   "metadata": {},
   "outputs": [],
   "source": [
    "df_pop = pd.merge(left=df_pop, right=df_nuts, on='Code', how='left')"
   ]
  },
  {
   "cell_type": "code",
   "execution_count": 167,
   "metadata": {},
   "outputs": [
    {
     "data": {
      "text/html": [
       "<div>\n",
       "<style scoped>\n",
       "    .dataframe tbody tr th:only-of-type {\n",
       "        vertical-align: middle;\n",
       "    }\n",
       "\n",
       "    .dataframe tbody tr th {\n",
       "        vertical-align: top;\n",
       "    }\n",
       "\n",
       "    .dataframe thead tr th {\n",
       "        text-align: left;\n",
       "    }\n",
       "\n",
       "    .dataframe thead tr:last-of-type th {\n",
       "        text-align: right;\n",
       "    }\n",
       "</style>\n",
       "<table border=\"1\" class=\"dataframe\">\n",
       "  <thead>\n",
       "    <tr>\n",
       "      <th></th>\n",
       "      <th colspan=\"6\" halign=\"left\">Pop</th>\n",
       "    </tr>\n",
       "    <tr>\n",
       "      <th>Year</th>\n",
       "      <th>2014</th>\n",
       "      <th>2015</th>\n",
       "      <th>2016</th>\n",
       "      <th>2017</th>\n",
       "      <th>2018</th>\n",
       "      <th>2019</th>\n",
       "    </tr>\n",
       "    <tr>\n",
       "      <th>Code</th>\n",
       "      <th></th>\n",
       "      <th></th>\n",
       "      <th></th>\n",
       "      <th></th>\n",
       "      <th></th>\n",
       "      <th></th>\n",
       "    </tr>\n",
       "  </thead>\n",
       "  <tbody>\n",
       "    <tr>\n",
       "      <th>DE</th>\n",
       "      <td>80767463.0</td>\n",
       "      <td>81197537.0</td>\n",
       "      <td>82175684.0</td>\n",
       "      <td>82521653.0</td>\n",
       "      <td>82792351.0</td>\n",
       "      <td>85296722.0</td>\n",
       "    </tr>\n",
       "    <tr>\n",
       "      <th>TR</th>\n",
       "      <td>76667864.0</td>\n",
       "      <td>77695904.0</td>\n",
       "      <td>78741053.0</td>\n",
       "      <td>79814871.0</td>\n",
       "      <td>80810525.0</td>\n",
       "      <td>82003882.0</td>\n",
       "    </tr>\n",
       "    <tr>\n",
       "      <th>FR</th>\n",
       "      <td>66165980.0</td>\n",
       "      <td>66458153.0</td>\n",
       "      <td>66638391.0</td>\n",
       "      <td>66809816.0</td>\n",
       "      <td>66918941.0</td>\n",
       "      <td>67012883.0</td>\n",
       "    </tr>\n",
       "    <tr>\n",
       "      <th>UK</th>\n",
       "      <td>64351203.0</td>\n",
       "      <td>64853393.0</td>\n",
       "      <td>65379044.0</td>\n",
       "      <td>65844142.0</td>\n",
       "      <td>66273576.0</td>\n",
       "      <td>66647112.0</td>\n",
       "    </tr>\n",
       "    <tr>\n",
       "      <th>IT</th>\n",
       "      <td>60782668.0</td>\n",
       "      <td>60795612.0</td>\n",
       "      <td>60665551.0</td>\n",
       "      <td>60589445.0</td>\n",
       "      <td>60483973.0</td>\n",
       "      <td>62513038.0</td>\n",
       "    </tr>\n",
       "  </tbody>\n",
       "</table>\n",
       "</div>"
      ],
      "text/plain": [
       "             Pop                                                            \n",
       "Year        2014        2015        2016        2017        2018        2019\n",
       "Code                                                                        \n",
       "DE    80767463.0  81197537.0  82175684.0  82521653.0  82792351.0  85296722.0\n",
       "TR    76667864.0  77695904.0  78741053.0  79814871.0  80810525.0  82003882.0\n",
       "FR    66165980.0  66458153.0  66638391.0  66809816.0  66918941.0  67012883.0\n",
       "UK    64351203.0  64853393.0  65379044.0  65844142.0  66273576.0  66647112.0\n",
       "IT    60782668.0  60795612.0  60665551.0  60589445.0  60483973.0  62513038.0"
      ]
     },
     "execution_count": 167,
     "metadata": {},
     "output_type": "execute_result"
    }
   ],
   "source": [
    "df_pop[(df_pop.Code.str.len() == 2)].groupby(['Code', 'Year']).sum().unstack().sort_values(('Pop', 2019), ascending=False).head(5)"
   ]
  },
  {
   "cell_type": "code",
   "execution_count": 169,
   "metadata": {},
   "outputs": [
    {
     "data": {
      "text/html": [
       "<div>\n",
       "<style scoped>\n",
       "    .dataframe tbody tr th:only-of-type {\n",
       "        vertical-align: middle;\n",
       "    }\n",
       "\n",
       "    .dataframe tbody tr th {\n",
       "        vertical-align: top;\n",
       "    }\n",
       "\n",
       "    .dataframe thead th {\n",
       "        text-align: right;\n",
       "    }\n",
       "</style>\n",
       "<table border=\"1\" class=\"dataframe\">\n",
       "  <thead>\n",
       "    <tr style=\"text-align: right;\">\n",
       "      <th></th>\n",
       "      <th>Sex</th>\n",
       "      <th>Age</th>\n",
       "      <th>Code</th>\n",
       "      <th>Year</th>\n",
       "      <th>Pop</th>\n",
       "      <th>Country</th>\n",
       "      <th>NUTS1</th>\n",
       "      <th>NUTS2</th>\n",
       "      <th>NUTS3</th>\n",
       "    </tr>\n",
       "  </thead>\n",
       "  <tbody>\n",
       "    <tr>\n",
       "      <th>3</th>\n",
       "      <td>F</td>\n",
       "      <td>Y10-14</td>\n",
       "      <td>AL011</td>\n",
       "      <td>2014</td>\n",
       "      <td>5112.0</td>\n",
       "      <td>Shqipëria</td>\n",
       "      <td>Shqipëria</td>\n",
       "      <td>Veri</td>\n",
       "      <td>Dibër</td>\n",
       "    </tr>\n",
       "    <tr>\n",
       "      <th>4</th>\n",
       "      <td>F</td>\n",
       "      <td>Y10-14</td>\n",
       "      <td>AL012</td>\n",
       "      <td>2014</td>\n",
       "      <td>9656.0</td>\n",
       "      <td>Shqipëria</td>\n",
       "      <td>Shqipëria</td>\n",
       "      <td>Veri</td>\n",
       "      <td>Durrës</td>\n",
       "    </tr>\n",
       "    <tr>\n",
       "      <th>5</th>\n",
       "      <td>F</td>\n",
       "      <td>Y10-14</td>\n",
       "      <td>AL013</td>\n",
       "      <td>2014</td>\n",
       "      <td>3174.0</td>\n",
       "      <td>Shqipëria</td>\n",
       "      <td>Shqipëria</td>\n",
       "      <td>Veri</td>\n",
       "      <td>Kukës</td>\n",
       "    </tr>\n",
       "    <tr>\n",
       "      <th>6</th>\n",
       "      <td>F</td>\n",
       "      <td>Y10-14</td>\n",
       "      <td>AL014</td>\n",
       "      <td>2014</td>\n",
       "      <td>4936.0</td>\n",
       "      <td>Shqipëria</td>\n",
       "      <td>Shqipëria</td>\n",
       "      <td>Veri</td>\n",
       "      <td>Lezhë</td>\n",
       "    </tr>\n",
       "    <tr>\n",
       "      <th>7</th>\n",
       "      <td>F</td>\n",
       "      <td>Y10-14</td>\n",
       "      <td>AL015</td>\n",
       "      <td>2014</td>\n",
       "      <td>8176.0</td>\n",
       "      <td>Shqipëria</td>\n",
       "      <td>Shqipëria</td>\n",
       "      <td>Veri</td>\n",
       "      <td>Shkodër</td>\n",
       "    </tr>\n",
       "  </tbody>\n",
       "</table>\n",
       "</div>"
      ],
      "text/plain": [
       "  Sex     Age   Code  Year     Pop    Country      NUTS1 NUTS2    NUTS3\n",
       "3   F  Y10-14  AL011  2014  5112.0  Shqipëria  Shqipëria  Veri    Dibër\n",
       "4   F  Y10-14  AL012  2014  9656.0  Shqipëria  Shqipëria  Veri   Durrës\n",
       "5   F  Y10-14  AL013  2014  3174.0  Shqipëria  Shqipëria  Veri    Kukës\n",
       "6   F  Y10-14  AL014  2014  4936.0  Shqipëria  Shqipëria  Veri    Lezhë\n",
       "7   F  Y10-14  AL015  2014  8176.0  Shqipëria  Shqipëria  Veri  Shkodër"
      ]
     },
     "execution_count": 169,
     "metadata": {},
     "output_type": "execute_result"
    }
   ],
   "source": [
    "df_pop = df_pop[~df_pop.NUTS3.isna()]\n",
    "df_pop.head()"
   ]
  },
  {
   "cell_type": "markdown",
   "metadata": {},
   "source": [
    "### 3b. Create Linear Interpolation of Week Population Data"
   ]
  },
  {
   "cell_type": "markdown",
   "metadata": {},
   "source": [
    "For each group of:\n",
    " - Sex\n",
    " - Age\n",
    " - NUTS3 region\n",
    "create a weekly estimate of the population using linear interpolation between each year"
   ]
  },
  {
   "cell_type": "code",
   "execution_count": 180,
   "metadata": {},
   "outputs": [],
   "source": [
    "df_uk_pop = df_pop[df_pop.Code.str.contains('UK')]"
   ]
  },
  {
   "cell_type": "code",
   "execution_count": 183,
   "metadata": {},
   "outputs": [
    {
     "data": {
      "text/plain": [
       "2054280"
      ]
     },
     "execution_count": 183,
     "metadata": {},
     "output_type": "execute_result"
    }
   ],
   "source": [
    "df_uk_pop"
   ]
  },
  {
   "cell_type": "code",
   "execution_count": 174,
   "metadata": {},
   "outputs": [
    {
     "data": {
      "text/plain": [
       "2700280"
      ]
     },
     "execution_count": 174,
     "metadata": {},
     "output_type": "execute_result"
    }
   ],
   "source": [
    "len(df)"
   ]
  },
  {
   "cell_type": "code",
   "execution_count": 171,
   "metadata": {},
   "outputs": [
    {
     "data": {
      "text/plain": [
       "[1,\n",
       " 2,\n",
       " 3,\n",
       " 4,\n",
       " 5,\n",
       " 6,\n",
       " 7,\n",
       " 8,\n",
       " 9,\n",
       " 10,\n",
       " 11,\n",
       " 12,\n",
       " 13,\n",
       " 14,\n",
       " 15,\n",
       " 16,\n",
       " 17,\n",
       " 18,\n",
       " 19,\n",
       " 20,\n",
       " 21,\n",
       " 22,\n",
       " 23,\n",
       " 24,\n",
       " 25,\n",
       " 26,\n",
       " 27,\n",
       " 28,\n",
       " 29,\n",
       " 30,\n",
       " 31,\n",
       " 32,\n",
       " 33,\n",
       " 34,\n",
       " 35,\n",
       " 36,\n",
       " 37,\n",
       " 38,\n",
       " 39,\n",
       " 40,\n",
       " 41,\n",
       " 42,\n",
       " 43,\n",
       " 44,\n",
       " 45,\n",
       " 46,\n",
       " 47,\n",
       " 48,\n",
       " 49,\n",
       " 50,\n",
       " 51,\n",
       " 52,\n",
       " 53]"
      ]
     },
     "execution_count": 171,
     "metadata": {},
     "output_type": "execute_result"
    }
   ],
   "source": [
    "[x for x in range(1,54)]"
   ]
  },
  {
   "cell_type": "code",
   "execution_count": null,
   "metadata": {},
   "outputs": [],
   "source": [
    "df_pop = df_pop[df_pop['Code'].str.contains('UK')]"
   ]
  },
  {
   "cell_type": "code",
   "execution_count": null,
   "metadata": {},
   "outputs": [],
   "source": []
  },
  {
   "cell_type": "code",
   "execution_count": null,
   "metadata": {},
   "outputs": [],
   "source": []
  },
  {
   "cell_type": "code",
   "execution_count": null,
   "metadata": {},
   "outputs": [],
   "source": []
  },
  {
   "cell_type": "code",
   "execution_count": 97,
   "metadata": {},
   "outputs": [
    {
     "data": {
      "text/plain": [
       "2700280"
      ]
     },
     "execution_count": 97,
     "metadata": {},
     "output_type": "execute_result"
    }
   ],
   "source": [
    "len(df)"
   ]
  },
  {
   "cell_type": "code",
   "execution_count": 96,
   "metadata": {},
   "outputs": [
    {
     "data": {
      "image/png": "[encoded data removed]",
      "text/plain": [
       "<Figure size 2304x1152 with 1 Axes>"
      ]
     },
     "metadata": {
      "needs_background": "light"
     },
     "output_type": "display_data"
    }
   ],
   "source": [
    "df[(df.NUTS3 == 'Belfast') & (~df.Year.isin([2012, 2013, 2014]))][['StartDate', 'Sex', 'AgeBand', 'Deaths']].groupby(['StartDate', 'AgeBand']).sum().unstack().plot(kind='bar', stacked=True, figsize=(32,16));"
   ]
  },
  {
   "cell_type": "code",
   "execution_count": null,
   "metadata": {},
   "outputs": [],
   "source": []
  },
  {
   "cell_type": "code",
   "execution_count": null,
   "metadata": {},
   "outputs": [],
   "source": []
  },
  {
   "cell_type": "code",
   "execution_count": null,
   "metadata": {},
   "outputs": [],
   "source": []
  },
  {
   "cell_type": "markdown",
   "metadata": {},
   "source": [
    "To do:\n",
    " - Join on mapping data for the regions\n",
    " - Compute the regional, weekly, by sex population estimates so we can:\n",
    "  - Compute the mortality rates per group G(age, sex, NUTS3, week) per 100,000\n",
    "  "
   ]
  },
  {
   "cell_type": "code",
   "execution_count": null,
   "metadata": {},
   "outputs": [],
   "source": []
  },
  {
   "cell_type": "code",
   "execution_count": null,
   "metadata": {},
   "outputs": [],
   "source": []
  },
  {
   "cell_type": "markdown",
   "metadata": {},
   "source": [
    "## 3. Plot Prelim UK Weekly Deaths"
   ]
  },
  {
   "cell_type": "markdown",
   "metadata": {},
   "source": [
    "Before we get going, let's check the how the seasonal death data looks for the UK (morbid sentence)"
   ]
  },
  {
   "cell_type": "code",
   "execution_count": 112,
   "metadata": {},
   "outputs": [
    {
     "data": {
      "text/html": [
       "<div>\n",
       "<style scoped>\n",
       "    .dataframe tbody tr th:only-of-type {\n",
       "        vertical-align: middle;\n",
       "    }\n",
       "\n",
       "    .dataframe tbody tr th {\n",
       "        vertical-align: top;\n",
       "    }\n",
       "\n",
       "    .dataframe thead th {\n",
       "        text-align: right;\n",
       "    }\n",
       "</style>\n",
       "<table border=\"1\" class=\"dataframe\">\n",
       "  <thead>\n",
       "    <tr style=\"text-align: right;\">\n",
       "      <th></th>\n",
       "      <th>Age</th>\n",
       "      <th>Year</th>\n",
       "      <th>Week</th>\n",
       "      <th>Deaths</th>\n",
       "    </tr>\n",
       "  </thead>\n",
       "  <tbody>\n",
       "    <tr>\n",
       "      <th>59984</th>\n",
       "      <td>TOTAL</td>\n",
       "      <td>2021</td>\n",
       "      <td>1</td>\n",
       "      <td>NaN</td>\n",
       "    </tr>\n",
       "    <tr>\n",
       "      <th>61385</th>\n",
       "      <td>UNK</td>\n",
       "      <td>2021</td>\n",
       "      <td>1</td>\n",
       "      <td>NaN</td>\n",
       "    </tr>\n",
       "    <tr>\n",
       "      <th>62785</th>\n",
       "      <td>Y10-14</td>\n",
       "      <td>2021</td>\n",
       "      <td>1</td>\n",
       "      <td>NaN</td>\n",
       "    </tr>\n",
       "    <tr>\n",
       "      <th>64185</th>\n",
       "      <td>Y15-19</td>\n",
       "      <td>2021</td>\n",
       "      <td>1</td>\n",
       "      <td>NaN</td>\n",
       "    </tr>\n",
       "    <tr>\n",
       "      <th>65585</th>\n",
       "      <td>Y20-24</td>\n",
       "      <td>2021</td>\n",
       "      <td>1</td>\n",
       "      <td>NaN</td>\n",
       "    </tr>\n",
       "    <tr>\n",
       "      <th>66985</th>\n",
       "      <td>Y25-29</td>\n",
       "      <td>2021</td>\n",
       "      <td>1</td>\n",
       "      <td>NaN</td>\n",
       "    </tr>\n",
       "    <tr>\n",
       "      <th>68385</th>\n",
       "      <td>Y30-34</td>\n",
       "      <td>2021</td>\n",
       "      <td>1</td>\n",
       "      <td>NaN</td>\n",
       "    </tr>\n",
       "    <tr>\n",
       "      <th>69785</th>\n",
       "      <td>Y35-39</td>\n",
       "      <td>2021</td>\n",
       "      <td>1</td>\n",
       "      <td>NaN</td>\n",
       "    </tr>\n",
       "    <tr>\n",
       "      <th>71185</th>\n",
       "      <td>Y40-44</td>\n",
       "      <td>2021</td>\n",
       "      <td>1</td>\n",
       "      <td>NaN</td>\n",
       "    </tr>\n",
       "    <tr>\n",
       "      <th>72585</th>\n",
       "      <td>Y45-49</td>\n",
       "      <td>2021</td>\n",
       "      <td>1</td>\n",
       "      <td>NaN</td>\n",
       "    </tr>\n",
       "  </tbody>\n",
       "</table>\n",
       "</div>"
      ],
      "text/plain": [
       "          Age  Year  Week  Deaths\n",
       "59984   TOTAL  2021     1     NaN\n",
       "61385     UNK  2021     1     NaN\n",
       "62785  Y10-14  2021     1     NaN\n",
       "64185  Y15-19  2021     1     NaN\n",
       "65585  Y20-24  2021     1     NaN\n",
       "66985  Y25-29  2021     1     NaN\n",
       "68385  Y30-34  2021     1     NaN\n",
       "69785  Y35-39  2021     1     NaN\n",
       "71185  Y40-44  2021     1     NaN\n",
       "72585  Y45-49  2021     1     NaN"
      ]
     },
     "execution_count": 112,
     "metadata": {},
     "output_type": "execute_result"
    }
   ],
   "source": [
    "df_demo = df[df.Sex == 'T'][['Age', 'Year', 'Week', 'Deaths']]\n",
    "df_demo.head(10)"
   ]
  },
  {
   "cell_type": "code",
   "execution_count": 114,
   "metadata": {},
   "outputs": [
    {
     "data": {
      "text/html": [
       "<div>\n",
       "<style scoped>\n",
       "    .dataframe tbody tr th:only-of-type {\n",
       "        vertical-align: middle;\n",
       "    }\n",
       "\n",
       "    .dataframe tbody tr th {\n",
       "        vertical-align: top;\n",
       "    }\n",
       "\n",
       "    .dataframe thead th {\n",
       "        text-align: right;\n",
       "    }\n",
       "</style>\n",
       "<table border=\"1\" class=\"dataframe\">\n",
       "  <thead>\n",
       "    <tr style=\"text-align: right;\">\n",
       "      <th></th>\n",
       "      <th>Age</th>\n",
       "      <th>Year</th>\n",
       "      <th>Week</th>\n",
       "      <th>Deaths</th>\n",
       "      <th>StartDate</th>\n",
       "      <th>EndDate</th>\n",
       "      <th>use_next_year</th>\n",
       "      <th>WeekCount</th>\n",
       "    </tr>\n",
       "  </thead>\n",
       "  <tbody>\n",
       "    <tr>\n",
       "      <th>0</th>\n",
       "      <td>TOTAL</td>\n",
       "      <td>2021</td>\n",
       "      <td>1</td>\n",
       "      <td>NaN</td>\n",
       "      <td>2020-12-26</td>\n",
       "      <td>2021-01-01</td>\n",
       "      <td>True</td>\n",
       "      <td>1</td>\n",
       "    </tr>\n",
       "    <tr>\n",
       "      <th>1</th>\n",
       "      <td>UNK</td>\n",
       "      <td>2021</td>\n",
       "      <td>1</td>\n",
       "      <td>NaN</td>\n",
       "      <td>2020-12-26</td>\n",
       "      <td>2021-01-01</td>\n",
       "      <td>True</td>\n",
       "      <td>1</td>\n",
       "    </tr>\n",
       "    <tr>\n",
       "      <th>2</th>\n",
       "      <td>Y10-14</td>\n",
       "      <td>2021</td>\n",
       "      <td>1</td>\n",
       "      <td>NaN</td>\n",
       "      <td>2020-12-26</td>\n",
       "      <td>2021-01-01</td>\n",
       "      <td>True</td>\n",
       "      <td>1</td>\n",
       "    </tr>\n",
       "    <tr>\n",
       "      <th>3</th>\n",
       "      <td>Y15-19</td>\n",
       "      <td>2021</td>\n",
       "      <td>1</td>\n",
       "      <td>NaN</td>\n",
       "      <td>2020-12-26</td>\n",
       "      <td>2021-01-01</td>\n",
       "      <td>True</td>\n",
       "      <td>1</td>\n",
       "    </tr>\n",
       "    <tr>\n",
       "      <th>4</th>\n",
       "      <td>Y20-24</td>\n",
       "      <td>2021</td>\n",
       "      <td>1</td>\n",
       "      <td>NaN</td>\n",
       "      <td>2020-12-26</td>\n",
       "      <td>2021-01-01</td>\n",
       "      <td>True</td>\n",
       "      <td>1</td>\n",
       "    </tr>\n",
       "    <tr>\n",
       "      <th>5</th>\n",
       "      <td>Y25-29</td>\n",
       "      <td>2021</td>\n",
       "      <td>1</td>\n",
       "      <td>NaN</td>\n",
       "      <td>2020-12-26</td>\n",
       "      <td>2021-01-01</td>\n",
       "      <td>True</td>\n",
       "      <td>1</td>\n",
       "    </tr>\n",
       "    <tr>\n",
       "      <th>6</th>\n",
       "      <td>Y30-34</td>\n",
       "      <td>2021</td>\n",
       "      <td>1</td>\n",
       "      <td>NaN</td>\n",
       "      <td>2020-12-26</td>\n",
       "      <td>2021-01-01</td>\n",
       "      <td>True</td>\n",
       "      <td>1</td>\n",
       "    </tr>\n",
       "    <tr>\n",
       "      <th>7</th>\n",
       "      <td>Y35-39</td>\n",
       "      <td>2021</td>\n",
       "      <td>1</td>\n",
       "      <td>NaN</td>\n",
       "      <td>2020-12-26</td>\n",
       "      <td>2021-01-01</td>\n",
       "      <td>True</td>\n",
       "      <td>1</td>\n",
       "    </tr>\n",
       "    <tr>\n",
       "      <th>8</th>\n",
       "      <td>Y40-44</td>\n",
       "      <td>2021</td>\n",
       "      <td>1</td>\n",
       "      <td>NaN</td>\n",
       "      <td>2020-12-26</td>\n",
       "      <td>2021-01-01</td>\n",
       "      <td>True</td>\n",
       "      <td>1</td>\n",
       "    </tr>\n",
       "    <tr>\n",
       "      <th>9</th>\n",
       "      <td>Y45-49</td>\n",
       "      <td>2021</td>\n",
       "      <td>1</td>\n",
       "      <td>NaN</td>\n",
       "      <td>2020-12-26</td>\n",
       "      <td>2021-01-01</td>\n",
       "      <td>True</td>\n",
       "      <td>1</td>\n",
       "    </tr>\n",
       "  </tbody>\n",
       "</table>\n",
       "</div>"
      ],
      "text/plain": [
       "      Age  Year  Week  Deaths   StartDate     EndDate  use_next_year  \\\n",
       "0   TOTAL  2021     1     NaN  2020-12-26  2021-01-01           True   \n",
       "1     UNK  2021     1     NaN  2020-12-26  2021-01-01           True   \n",
       "2  Y10-14  2021     1     NaN  2020-12-26  2021-01-01           True   \n",
       "3  Y15-19  2021     1     NaN  2020-12-26  2021-01-01           True   \n",
       "4  Y20-24  2021     1     NaN  2020-12-26  2021-01-01           True   \n",
       "5  Y25-29  2021     1     NaN  2020-12-26  2021-01-01           True   \n",
       "6  Y30-34  2021     1     NaN  2020-12-26  2021-01-01           True   \n",
       "7  Y35-39  2021     1     NaN  2020-12-26  2021-01-01           True   \n",
       "8  Y40-44  2021     1     NaN  2020-12-26  2021-01-01           True   \n",
       "9  Y45-49  2021     1     NaN  2020-12-26  2021-01-01           True   \n",
       "\n",
       "   WeekCount  \n",
       "0          1  \n",
       "1          1  \n",
       "2          1  \n",
       "3          1  \n",
       "4          1  \n",
       "5          1  \n",
       "6          1  \n",
       "7          1  \n",
       "8          1  \n",
       "9          1  "
      ]
     },
     "execution_count": 114,
     "metadata": {},
     "output_type": "execute_result"
    }
   ],
   "source": [
    "df_demo = pd.merge(left=df_demo, right=df_week_map, left_on=['Year', 'Week'], right_on=['Year', 'WeekCount'])\n",
    "df_demo.head(10)"
   ]
  },
  {
   "cell_type": "code",
   "execution_count": 118,
   "metadata": {},
   "outputs": [
    {
     "data": {
      "text/html": [
       "<div>\n",
       "<style scoped>\n",
       "    .dataframe tbody tr th:only-of-type {\n",
       "        vertical-align: middle;\n",
       "    }\n",
       "\n",
       "    .dataframe tbody tr th {\n",
       "        vertical-align: top;\n",
       "    }\n",
       "\n",
       "    .dataframe thead th {\n",
       "        text-align: right;\n",
       "    }\n",
       "</style>\n",
       "<table border=\"1\" class=\"dataframe\">\n",
       "  <thead>\n",
       "    <tr style=\"text-align: right;\">\n",
       "      <th></th>\n",
       "      <th></th>\n",
       "      <th></th>\n",
       "      <th></th>\n",
       "      <th>Deaths</th>\n",
       "    </tr>\n",
       "    <tr>\n",
       "      <th>Year</th>\n",
       "      <th>Week</th>\n",
       "      <th>StartDate</th>\n",
       "      <th>Age</th>\n",
       "      <th></th>\n",
       "    </tr>\n",
       "  </thead>\n",
       "  <tbody>\n",
       "    <tr>\n",
       "      <th rowspan=\"5\" valign=\"top\">2015</th>\n",
       "      <th rowspan=\"5\" valign=\"top\">1</th>\n",
       "      <th rowspan=\"5\" valign=\"top\">2014-12-27</th>\n",
       "      <th>Y10-14</th>\n",
       "      <td>6.0</td>\n",
       "    </tr>\n",
       "    <tr>\n",
       "      <th>Y15-19</th>\n",
       "      <td>10.0</td>\n",
       "    </tr>\n",
       "    <tr>\n",
       "      <th>Y20-24</th>\n",
       "      <td>23.0</td>\n",
       "    </tr>\n",
       "    <tr>\n",
       "      <th>Y25-29</th>\n",
       "      <td>12.0</td>\n",
       "    </tr>\n",
       "    <tr>\n",
       "      <th>Y30-34</th>\n",
       "      <td>33.0</td>\n",
       "    </tr>\n",
       "    <tr>\n",
       "      <th>...</th>\n",
       "      <th>...</th>\n",
       "      <th>...</th>\n",
       "      <th>...</th>\n",
       "      <td>...</td>\n",
       "    </tr>\n",
       "    <tr>\n",
       "      <th rowspan=\"5\" valign=\"top\">2021</th>\n",
       "      <th rowspan=\"5\" valign=\"top\">1</th>\n",
       "      <th rowspan=\"5\" valign=\"top\">2020-12-26</th>\n",
       "      <th>Y75-79</th>\n",
       "      <td>0.0</td>\n",
       "    </tr>\n",
       "    <tr>\n",
       "      <th>Y80-84</th>\n",
       "      <td>0.0</td>\n",
       "    </tr>\n",
       "    <tr>\n",
       "      <th>Y85-89</th>\n",
       "      <td>0.0</td>\n",
       "    </tr>\n",
       "    <tr>\n",
       "      <th>Y_GE90</th>\n",
       "      <td>0.0</td>\n",
       "    </tr>\n",
       "    <tr>\n",
       "      <th>Y_LT5</th>\n",
       "      <td>0.0</td>\n",
       "    </tr>\n",
       "  </tbody>\n",
       "</table>\n",
       "<p>5966 rows × 1 columns</p>\n",
       "</div>"
      ],
      "text/plain": [
       "                             Deaths\n",
       "Year Week StartDate  Age           \n",
       "2015 1    2014-12-27 Y10-14     6.0\n",
       "                     Y15-19    10.0\n",
       "                     Y20-24    23.0\n",
       "                     Y25-29    12.0\n",
       "                     Y30-34    33.0\n",
       "...                             ...\n",
       "2021 1    2020-12-26 Y75-79     0.0\n",
       "                     Y80-84     0.0\n",
       "                     Y85-89     0.0\n",
       "                     Y_GE90     0.0\n",
       "                     Y_LT5      0.0\n",
       "\n",
       "[5966 rows x 1 columns]"
      ]
     },
     "execution_count": 118,
     "metadata": {},
     "output_type": "execute_result"
    }
   ],
   "source": [
    "df_demo[~df_demo.Age.isin(['TOTAL', 'UNK'])][['Year', 'Week', 'StartDate', 'Age', 'Deaths']].groupby(['Year', 'Week', 'StartDate', 'Age']).sum()"
   ]
  },
  {
   "cell_type": "code",
   "execution_count": 122,
   "metadata": {},
   "outputs": [
    {
     "data": {
      "text/html": [
       "<div>\n",
       "<style scoped>\n",
       "    .dataframe tbody tr th:only-of-type {\n",
       "        vertical-align: middle;\n",
       "    }\n",
       "\n",
       "    .dataframe tbody tr th {\n",
       "        vertical-align: top;\n",
       "    }\n",
       "\n",
       "    .dataframe thead th {\n",
       "        text-align: right;\n",
       "    }\n",
       "</style>\n",
       "<table border=\"1\" class=\"dataframe\">\n",
       "  <thead>\n",
       "    <tr style=\"text-align: right;\">\n",
       "      <th></th>\n",
       "      <th></th>\n",
       "      <th>Deaths</th>\n",
       "    </tr>\n",
       "    <tr>\n",
       "      <th>StartDate</th>\n",
       "      <th>Age</th>\n",
       "      <th></th>\n",
       "    </tr>\n",
       "  </thead>\n",
       "  <tbody>\n",
       "    <tr>\n",
       "      <th rowspan=\"5\" valign=\"top\">2014-12-27</th>\n",
       "      <th>Y10-14</th>\n",
       "      <td>6.0</td>\n",
       "    </tr>\n",
       "    <tr>\n",
       "      <th>Y15-19</th>\n",
       "      <td>10.0</td>\n",
       "    </tr>\n",
       "    <tr>\n",
       "      <th>Y20-24</th>\n",
       "      <td>23.0</td>\n",
       "    </tr>\n",
       "    <tr>\n",
       "      <th>Y25-29</th>\n",
       "      <td>12.0</td>\n",
       "    </tr>\n",
       "    <tr>\n",
       "      <th>Y30-34</th>\n",
       "      <td>33.0</td>\n",
       "    </tr>\n",
       "    <tr>\n",
       "      <th>...</th>\n",
       "      <th>...</th>\n",
       "      <td>...</td>\n",
       "    </tr>\n",
       "    <tr>\n",
       "      <th rowspan=\"5\" valign=\"top\">2020-12-26</th>\n",
       "      <th>Y75-79</th>\n",
       "      <td>0.0</td>\n",
       "    </tr>\n",
       "    <tr>\n",
       "      <th>Y80-84</th>\n",
       "      <td>0.0</td>\n",
       "    </tr>\n",
       "    <tr>\n",
       "      <th>Y85-89</th>\n",
       "      <td>0.0</td>\n",
       "    </tr>\n",
       "    <tr>\n",
       "      <th>Y_GE90</th>\n",
       "      <td>0.0</td>\n",
       "    </tr>\n",
       "    <tr>\n",
       "      <th>Y_LT5</th>\n",
       "      <td>0.0</td>\n",
       "    </tr>\n",
       "  </tbody>\n",
       "</table>\n",
       "<p>5966 rows × 1 columns</p>\n",
       "</div>"
      ],
      "text/plain": [
       "                   Deaths\n",
       "StartDate  Age           \n",
       "2014-12-27 Y10-14     6.0\n",
       "           Y15-19    10.0\n",
       "           Y20-24    23.0\n",
       "           Y25-29    12.0\n",
       "           Y30-34    33.0\n",
       "...                   ...\n",
       "2020-12-26 Y75-79     0.0\n",
       "           Y80-84     0.0\n",
       "           Y85-89     0.0\n",
       "           Y_GE90     0.0\n",
       "           Y_LT5      0.0\n",
       "\n",
       "[5966 rows x 1 columns]"
      ]
     },
     "execution_count": 122,
     "metadata": {},
     "output_type": "execute_result"
    }
   ],
   "source": [
    "df_demo[~df_demo.Age.isin(['TOTAL', 'UNK'])][['StartDate', 'Age', 'Deaths']].groupby(['StartDate', 'Age']).sum()"
   ]
  },
  {
   "cell_type": "code",
   "execution_count": 130,
   "metadata": {},
   "outputs": [],
   "source": [
    "df_demo = df_demo[~df_demo.Age.isin(['TOTAL', 'UNK'])][['StartDate', 'Age', 'Deaths']]\n",
    "df_demo = df_demo[df_demo.StartDate > dt.date(2018,1,1)]"
   ]
  },
  {
   "cell_type": "code",
   "execution_count": 131,
   "metadata": {},
   "outputs": [
    {
     "data": {
      "image/png": "[encoded data removed]",
      "text/plain": [
       "<Figure size 2304x1152 with 1 Axes>"
      ]
     },
     "metadata": {
      "needs_background": "light"
     },
     "output_type": "display_data"
    }
   ],
   "source": [
    "df_demo.groupby(['StartDate', 'Age']).sum().unstack().plot(kind='bar', stacked=True, figsize=(32,16));"
   ]
  },
  {
   "cell_type": "code",
   "execution_count": 150,
   "metadata": {},
   "outputs": [
    {
     "data": {
      "text/plain": [
       "Deaths    11841.875\n",
       "dtype: float64"
      ]
     },
     "execution_count": 150,
     "metadata": {},
     "output_type": "execute_result"
    }
   ],
   "source": [
    "df[(df.Sex == 'T') & (~df.Age.isin(['TOTAL', 'UNK']))][['Year', 'Week', 'Deaths']].dropna().groupby(['Year', 'Week']).sum().mean()"
   ]
  },
  {
   "cell_type": "code",
   "execution_count": 149,
   "metadata": {},
   "outputs": [
    {
     "data": {
      "image/png": "[encoded data removed]",
      "text/plain": [
       "<Figure size 432x288 with 1 Axes>"
      ]
     },
     "metadata": {
      "needs_background": "light"
     },
     "output_type": "display_data"
    }
   ],
   "source": [
    "df[(df.Sex == 'T') & (~df.Age.isin(['TOTAL', 'UNK']))][['Year', 'Week', 'Deaths']].dropna().groupby(['Year', 'Week']).sum().groupby(['Week']).mean().plot();"
   ]
  },
  {
   "cell_type": "markdown",
   "metadata": {},
   "source": [
    "On average around 12,000 people a week die in the UK. Given a population of 66million, this corresponds to:"
   ]
  },
  {
   "cell_type": "code",
   "execution_count": 152,
   "metadata": {},
   "outputs": [
    {
     "data": {
      "text/plain": [
       "15478.424015009381"
      ]
     },
     "execution_count": 152,
     "metadata": {},
     "output_type": "execute_result"
    }
   ],
   "source": [
    "66000000 / 82 / 52"
   ]
  },
  {
   "cell_type": "markdown",
   "metadata": {},
   "source": [
    "The above is just an estimate per week with life expectancy of 82 years old if we have a stable population"
   ]
  },
  {
   "cell_type": "code",
   "execution_count": 158,
   "metadata": {},
   "outputs": [
    {
     "data": {
      "text/html": [
       "<div>\n",
       "<style scoped>\n",
       "    .dataframe tbody tr th:only-of-type {\n",
       "        vertical-align: middle;\n",
       "    }\n",
       "\n",
       "    .dataframe tbody tr th {\n",
       "        vertical-align: top;\n",
       "    }\n",
       "\n",
       "    .dataframe thead th {\n",
       "        text-align: right;\n",
       "    }\n",
       "</style>\n",
       "<table border=\"1\" class=\"dataframe\">\n",
       "  <thead>\n",
       "    <tr style=\"text-align: right;\">\n",
       "      <th></th>\n",
       "      <th>Unit</th>\n",
       "      <th>Sex</th>\n",
       "      <th>Age</th>\n",
       "      <th>Code</th>\n",
       "      <th>Week</th>\n",
       "      <th>Deaths</th>\n",
       "      <th>Year</th>\n",
       "    </tr>\n",
       "  </thead>\n",
       "  <tbody>\n",
       "    <tr>\n",
       "      <th>1167</th>\n",
       "      <td>NR</td>\n",
       "      <td>F</td>\n",
       "      <td>TOTAL</td>\n",
       "      <td>UK</td>\n",
       "      <td>1</td>\n",
       "      <td>NaN</td>\n",
       "      <td>2021</td>\n",
       "    </tr>\n",
       "    <tr>\n",
       "      <th>2567</th>\n",
       "      <td>NR</td>\n",
       "      <td>F</td>\n",
       "      <td>UNK</td>\n",
       "      <td>UK</td>\n",
       "      <td>1</td>\n",
       "      <td>NaN</td>\n",
       "      <td>2021</td>\n",
       "    </tr>\n",
       "    <tr>\n",
       "      <th>3967</th>\n",
       "      <td>NR</td>\n",
       "      <td>F</td>\n",
       "      <td>Y10-14</td>\n",
       "      <td>UK</td>\n",
       "      <td>1</td>\n",
       "      <td>NaN</td>\n",
       "      <td>2021</td>\n",
       "    </tr>\n",
       "    <tr>\n",
       "      <th>5367</th>\n",
       "      <td>NR</td>\n",
       "      <td>F</td>\n",
       "      <td>Y15-19</td>\n",
       "      <td>UK</td>\n",
       "      <td>1</td>\n",
       "      <td>NaN</td>\n",
       "      <td>2021</td>\n",
       "    </tr>\n",
       "    <tr>\n",
       "      <th>6767</th>\n",
       "      <td>NR</td>\n",
       "      <td>F</td>\n",
       "      <td>Y20-24</td>\n",
       "      <td>UK</td>\n",
       "      <td>1</td>\n",
       "      <td>NaN</td>\n",
       "      <td>2021</td>\n",
       "    </tr>\n",
       "    <tr>\n",
       "      <th>...</th>\n",
       "      <td>...</td>\n",
       "      <td>...</td>\n",
       "      <td>...</td>\n",
       "      <td>...</td>\n",
       "      <td>...</td>\n",
       "      <td>...</td>\n",
       "      <td>...</td>\n",
       "    </tr>\n",
       "    <tr>\n",
       "      <th>32371271</th>\n",
       "      <td>NR</td>\n",
       "      <td>T</td>\n",
       "      <td>Y75-79</td>\n",
       "      <td>UK</td>\n",
       "      <td>1</td>\n",
       "      <td>NaN</td>\n",
       "      <td>2014</td>\n",
       "    </tr>\n",
       "    <tr>\n",
       "      <th>32372672</th>\n",
       "      <td>NR</td>\n",
       "      <td>T</td>\n",
       "      <td>Y80-84</td>\n",
       "      <td>UK</td>\n",
       "      <td>1</td>\n",
       "      <td>NaN</td>\n",
       "      <td>2014</td>\n",
       "    </tr>\n",
       "    <tr>\n",
       "      <th>32374073</th>\n",
       "      <td>NR</td>\n",
       "      <td>T</td>\n",
       "      <td>Y85-89</td>\n",
       "      <td>UK</td>\n",
       "      <td>1</td>\n",
       "      <td>NaN</td>\n",
       "      <td>2014</td>\n",
       "    </tr>\n",
       "    <tr>\n",
       "      <th>32375474</th>\n",
       "      <td>NR</td>\n",
       "      <td>T</td>\n",
       "      <td>Y_GE90</td>\n",
       "      <td>UK</td>\n",
       "      <td>1</td>\n",
       "      <td>NaN</td>\n",
       "      <td>2014</td>\n",
       "    </tr>\n",
       "    <tr>\n",
       "      <th>32376874</th>\n",
       "      <td>NR</td>\n",
       "      <td>T</td>\n",
       "      <td>Y_LT5</td>\n",
       "      <td>UK</td>\n",
       "      <td>1</td>\n",
       "      <td>NaN</td>\n",
       "      <td>2014</td>\n",
       "    </tr>\n",
       "  </tbody>\n",
       "</table>\n",
       "<p>23121 rows × 7 columns</p>\n",
       "</div>"
      ],
      "text/plain": [
       "         Unit Sex     Age Code  Week  Deaths  Year\n",
       "1167       NR   F   TOTAL   UK     1     NaN  2021\n",
       "2567       NR   F     UNK   UK     1     NaN  2021\n",
       "3967       NR   F  Y10-14   UK     1     NaN  2021\n",
       "5367       NR   F  Y15-19   UK     1     NaN  2021\n",
       "6767       NR   F  Y20-24   UK     1     NaN  2021\n",
       "...       ...  ..     ...  ...   ...     ...   ...\n",
       "32371271   NR   T  Y75-79   UK     1     NaN  2014\n",
       "32372672   NR   T  Y80-84   UK     1     NaN  2014\n",
       "32374073   NR   T  Y85-89   UK     1     NaN  2014\n",
       "32375474   NR   T  Y_GE90   UK     1     NaN  2014\n",
       "32376874   NR   T   Y_LT5   UK     1     NaN  2014\n",
       "\n",
       "[23121 rows x 7 columns]"
      ]
     },
     "execution_count": 158,
     "metadata": {},
     "output_type": "execute_result"
    }
   ],
   "source": [
    "df"
   ]
  },
  {
   "cell_type": "code",
   "execution_count": null,
   "metadata": {},
   "outputs": [],
   "source": []
  }
 ],
 "metadata": {
  "kernelspec": {
   "display_name": "Python 3",
   "language": "python",
   "name": "python3"
  },
  "language_info": {
   "codemirror_mode": {
    "name": "ipython",
    "version": 3
   },
   "file_extension": ".py",
   "mimetype": "text/x-python",
   "name": "python",
   "nbconvert_exporter": "python",
   "pygments_lexer": "ipython3",
   "version": "3.7.9"
  }
 },
 "nbformat": 4,
 "nbformat_minor": 4
}
